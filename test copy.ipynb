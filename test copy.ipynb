{
 "cells": [
  {
   "cell_type": "code",
   "execution_count": 2,
   "metadata": {},
   "outputs": [],
   "source": [
    "import numpy as np # linear algebra\n",
    "import pandas as pd # data processing, CSV file I/O (e.g. pd.read_csv)\\\n",
    "import missingno as msno\n",
    "import matplotlib.pyplot as plt\n",
    "import datetime as dt"
   ]
  },
  {
   "cell_type": "code",
   "execution_count": 3,
   "metadata": {},
   "outputs": [
    {
     "data": {
      "application/vnd.microsoft.datawrangler.viewer.v0+json": {
       "columns": [
        {
         "name": "index",
         "rawType": "int64",
         "type": "integer"
        },
        {
         "name": "State",
         "rawType": "object",
         "type": "string"
        },
        {
         "name": "year",
         "rawType": "int64",
         "type": "integer"
        },
        {
         "name": "month",
         "rawType": "int64",
         "type": "integer"
        },
        {
         "name": "PRCP",
         "rawType": "float64",
         "type": "float"
        },
        {
         "name": "EVAP",
         "rawType": "float64",
         "type": "float"
        },
        {
         "name": "TMIN",
         "rawType": "float64",
         "type": "float"
        },
        {
         "name": "TMAX",
         "rawType": "float64",
         "type": "float"
        },
        {
         "name": "mean_elevation",
         "rawType": "int64",
         "type": "integer"
        },
        {
         "name": "Land Area (sq mi)",
         "rawType": "int64",
         "type": "integer"
        },
        {
         "name": "Water Area (sq mi)",
         "rawType": "int64",
         "type": "integer"
        },
        {
         "name": "Total Area (sq mi)",
         "rawType": "int64",
         "type": "integer"
        },
        {
         "name": "Percentage of Federal Land",
         "rawType": "float64",
         "type": "float"
        },
        {
         "name": "Urbanization Rate (%)",
         "rawType": "float64",
         "type": "float"
        },
        {
         "name": "total_fire_size",
         "rawType": "float64",
         "type": "float"
        }
       ],
       "conversionMethod": "pd.DataFrame",
       "ref": "2b499d71-7fb6-4c48-8633-face26debf8f",
       "rows": [
        [
         "0",
         "AK",
         "1992",
         "4",
         "21.22155855992708",
         "50.93134133373842",
         "10.677198845511166",
         "328.0469390855233",
         "580",
         "570641",
         "94743",
         "665384",
         "0.609",
         "64.9",
         "10.1"
        ],
        [
         "1",
         "AK",
         "1992",
         "5",
         "5.36",
         "44.17",
         "-56.0",
         "233.0",
         "580",
         "570641",
         "94743",
         "665384",
         "0.609",
         "64.9",
         "4309.5"
        ],
        [
         "2",
         "AK",
         "1992",
         "6",
         "14.03",
         "39.27",
         "-17.0",
         "322.0",
         "580",
         "570641",
         "94743",
         "665384",
         "0.609",
         "64.9",
         "86460.6"
        ],
        [
         "3",
         "AK",
         "1992",
         "7",
         "16.78",
         "30.91",
         "28.0",
         "300.0",
         "580",
         "570641",
         "94743",
         "665384",
         "0.609",
         "64.9",
         "48578.5"
        ],
        [
         "4",
         "AK",
         "1992",
         "8",
         "10.46",
         "20.14",
         "-33.0",
         "267.0",
         "580",
         "570641",
         "94743",
         "665384",
         "0.609",
         "64.9",
         "3321.8"
        ]
       ],
       "shape": {
        "columns": 14,
        "rows": 5
       }
      },
      "text/html": [
       "<div>\n",
       "<style scoped>\n",
       "    .dataframe tbody tr th:only-of-type {\n",
       "        vertical-align: middle;\n",
       "    }\n",
       "\n",
       "    .dataframe tbody tr th {\n",
       "        vertical-align: top;\n",
       "    }\n",
       "\n",
       "    .dataframe thead th {\n",
       "        text-align: right;\n",
       "    }\n",
       "</style>\n",
       "<table border=\"1\" class=\"dataframe\">\n",
       "  <thead>\n",
       "    <tr style=\"text-align: right;\">\n",
       "      <th></th>\n",
       "      <th>State</th>\n",
       "      <th>year</th>\n",
       "      <th>month</th>\n",
       "      <th>PRCP</th>\n",
       "      <th>EVAP</th>\n",
       "      <th>TMIN</th>\n",
       "      <th>TMAX</th>\n",
       "      <th>mean_elevation</th>\n",
       "      <th>Land Area (sq mi)</th>\n",
       "      <th>Water Area (sq mi)</th>\n",
       "      <th>Total Area (sq mi)</th>\n",
       "      <th>Percentage of Federal Land</th>\n",
       "      <th>Urbanization Rate (%)</th>\n",
       "      <th>total_fire_size</th>\n",
       "    </tr>\n",
       "  </thead>\n",
       "  <tbody>\n",
       "    <tr>\n",
       "      <th>0</th>\n",
       "      <td>AK</td>\n",
       "      <td>1992</td>\n",
       "      <td>4</td>\n",
       "      <td>21.221559</td>\n",
       "      <td>50.931341</td>\n",
       "      <td>10.677199</td>\n",
       "      <td>328.046939</td>\n",
       "      <td>580</td>\n",
       "      <td>570641</td>\n",
       "      <td>94743</td>\n",
       "      <td>665384</td>\n",
       "      <td>0.609</td>\n",
       "      <td>64.9</td>\n",
       "      <td>10.1</td>\n",
       "    </tr>\n",
       "    <tr>\n",
       "      <th>1</th>\n",
       "      <td>AK</td>\n",
       "      <td>1992</td>\n",
       "      <td>5</td>\n",
       "      <td>5.360000</td>\n",
       "      <td>44.170000</td>\n",
       "      <td>-56.000000</td>\n",
       "      <td>233.000000</td>\n",
       "      <td>580</td>\n",
       "      <td>570641</td>\n",
       "      <td>94743</td>\n",
       "      <td>665384</td>\n",
       "      <td>0.609</td>\n",
       "      <td>64.9</td>\n",
       "      <td>4309.5</td>\n",
       "    </tr>\n",
       "    <tr>\n",
       "      <th>2</th>\n",
       "      <td>AK</td>\n",
       "      <td>1992</td>\n",
       "      <td>6</td>\n",
       "      <td>14.030000</td>\n",
       "      <td>39.270000</td>\n",
       "      <td>-17.000000</td>\n",
       "      <td>322.000000</td>\n",
       "      <td>580</td>\n",
       "      <td>570641</td>\n",
       "      <td>94743</td>\n",
       "      <td>665384</td>\n",
       "      <td>0.609</td>\n",
       "      <td>64.9</td>\n",
       "      <td>86460.6</td>\n",
       "    </tr>\n",
       "    <tr>\n",
       "      <th>3</th>\n",
       "      <td>AK</td>\n",
       "      <td>1992</td>\n",
       "      <td>7</td>\n",
       "      <td>16.780000</td>\n",
       "      <td>30.910000</td>\n",
       "      <td>28.000000</td>\n",
       "      <td>300.000000</td>\n",
       "      <td>580</td>\n",
       "      <td>570641</td>\n",
       "      <td>94743</td>\n",
       "      <td>665384</td>\n",
       "      <td>0.609</td>\n",
       "      <td>64.9</td>\n",
       "      <td>48578.5</td>\n",
       "    </tr>\n",
       "    <tr>\n",
       "      <th>4</th>\n",
       "      <td>AK</td>\n",
       "      <td>1992</td>\n",
       "      <td>8</td>\n",
       "      <td>10.460000</td>\n",
       "      <td>20.140000</td>\n",
       "      <td>-33.000000</td>\n",
       "      <td>267.000000</td>\n",
       "      <td>580</td>\n",
       "      <td>570641</td>\n",
       "      <td>94743</td>\n",
       "      <td>665384</td>\n",
       "      <td>0.609</td>\n",
       "      <td>64.9</td>\n",
       "      <td>3321.8</td>\n",
       "    </tr>\n",
       "  </tbody>\n",
       "</table>\n",
       "</div>"
      ],
      "text/plain": [
       "  State  year  month       PRCP       EVAP       TMIN        TMAX  \\\n",
       "0    AK  1992      4  21.221559  50.931341  10.677199  328.046939   \n",
       "1    AK  1992      5   5.360000  44.170000 -56.000000  233.000000   \n",
       "2    AK  1992      6  14.030000  39.270000 -17.000000  322.000000   \n",
       "3    AK  1992      7  16.780000  30.910000  28.000000  300.000000   \n",
       "4    AK  1992      8  10.460000  20.140000 -33.000000  267.000000   \n",
       "\n",
       "   mean_elevation  Land Area (sq mi)  Water Area (sq mi)  Total Area (sq mi)  \\\n",
       "0             580             570641               94743              665384   \n",
       "1             580             570641               94743              665384   \n",
       "2             580             570641               94743              665384   \n",
       "3             580             570641               94743              665384   \n",
       "4             580             570641               94743              665384   \n",
       "\n",
       "   Percentage of Federal Land  Urbanization Rate (%)  total_fire_size  \n",
       "0                       0.609                   64.9             10.1  \n",
       "1                       0.609                   64.9           4309.5  \n",
       "2                       0.609                   64.9          86460.6  \n",
       "3                       0.609                   64.9          48578.5  \n",
       "4                       0.609                   64.9           3321.8  "
      ]
     },
     "execution_count": 3,
     "metadata": {},
     "output_type": "execute_result"
    }
   ],
   "source": [
    "data = pd.read_csv('data/data_processed_simple.csv')\n",
    "data.head()"
   ]
  },
  {
   "cell_type": "markdown",
   "metadata": {},
   "source": [
    "# Feature Engineering"
   ]
  },
  {
   "cell_type": "code",
   "execution_count": null,
   "metadata": {},
   "outputs": [
    {
     "ename": "KeyError",
     "evalue": "'value'",
     "output_type": "error",
     "traceback": [
      "\u001b[0;31m---------------------------------------------------------------------------\u001b[0m",
      "\u001b[0;31mKeyError\u001b[0m                                  Traceback (most recent call last)",
      "File \u001b[0;32m~/GitHub/Hackathon_22feb/.venv/lib/python3.10/site-packages/pandas/core/indexes/base.py:3805\u001b[0m, in \u001b[0;36mIndex.get_loc\u001b[0;34m(self, key)\u001b[0m\n\u001b[1;32m   3804\u001b[0m \u001b[38;5;28;01mtry\u001b[39;00m:\n\u001b[0;32m-> 3805\u001b[0m     \u001b[38;5;28;01mreturn\u001b[39;00m \u001b[38;5;28;43mself\u001b[39;49m\u001b[38;5;241;43m.\u001b[39;49m\u001b[43m_engine\u001b[49m\u001b[38;5;241;43m.\u001b[39;49m\u001b[43mget_loc\u001b[49m\u001b[43m(\u001b[49m\u001b[43mcasted_key\u001b[49m\u001b[43m)\u001b[49m\n\u001b[1;32m   3806\u001b[0m \u001b[38;5;28;01mexcept\u001b[39;00m \u001b[38;5;167;01mKeyError\u001b[39;00m \u001b[38;5;28;01mas\u001b[39;00m err:\n",
      "File \u001b[0;32mindex.pyx:167\u001b[0m, in \u001b[0;36mpandas._libs.index.IndexEngine.get_loc\u001b[0;34m()\u001b[0m\n",
      "File \u001b[0;32mindex.pyx:196\u001b[0m, in \u001b[0;36mpandas._libs.index.IndexEngine.get_loc\u001b[0;34m()\u001b[0m\n",
      "File \u001b[0;32mpandas/_libs/hashtable_class_helper.pxi:7081\u001b[0m, in \u001b[0;36mpandas._libs.hashtable.PyObjectHashTable.get_item\u001b[0;34m()\u001b[0m\n",
      "File \u001b[0;32mpandas/_libs/hashtable_class_helper.pxi:7089\u001b[0m, in \u001b[0;36mpandas._libs.hashtable.PyObjectHashTable.get_item\u001b[0;34m()\u001b[0m\n",
      "\u001b[0;31mKeyError\u001b[0m: 'value'",
      "\nThe above exception was the direct cause of the following exception:\n",
      "\u001b[0;31mKeyError\u001b[0m                                  Traceback (most recent call last)",
      "Cell \u001b[0;32mIn[4], line 8\u001b[0m\n\u001b[1;32m      5\u001b[0m datam[\u001b[38;5;124m'\u001b[39m\u001b[38;5;124mcos_month\u001b[39m\u001b[38;5;124m'\u001b[39m] \u001b[38;5;241m=\u001b[39m np\u001b[38;5;241m.\u001b[39mcos(\u001b[38;5;241m2\u001b[39m\u001b[38;5;241m*\u001b[39mnp\u001b[38;5;241m.\u001b[39mpi\u001b[38;5;241m*\u001b[39mdatam[\u001b[38;5;124m'\u001b[39m\u001b[38;5;124mmonth\u001b[39m\u001b[38;5;124m'\u001b[39m]\u001b[38;5;241m/\u001b[39m\u001b[38;5;241m12\u001b[39m)\n\u001b[1;32m      7\u001b[0m \u001b[38;5;66;03m# Rolling mean\u001b[39;00m\n\u001b[0;32m----> 8\u001b[0m datam[\u001b[38;5;124m'\u001b[39m\u001b[38;5;124mrolling_mean\u001b[39m\u001b[38;5;124m'\u001b[39m] \u001b[38;5;241m=\u001b[39m \u001b[43mdatam\u001b[49m\u001b[43m[\u001b[49m\u001b[38;5;124;43m'\u001b[39;49m\u001b[38;5;124;43mvalue\u001b[39;49m\u001b[38;5;124;43m'\u001b[39;49m\u001b[43m]\u001b[49m\u001b[38;5;241m.\u001b[39mrolling(window\u001b[38;5;241m=\u001b[39m\u001b[38;5;241m12\u001b[39m)\u001b[38;5;241m.\u001b[39mmean()\n",
      "File \u001b[0;32m~/GitHub/Hackathon_22feb/.venv/lib/python3.10/site-packages/pandas/core/frame.py:4102\u001b[0m, in \u001b[0;36mDataFrame.__getitem__\u001b[0;34m(self, key)\u001b[0m\n\u001b[1;32m   4100\u001b[0m \u001b[38;5;28;01mif\u001b[39;00m \u001b[38;5;28mself\u001b[39m\u001b[38;5;241m.\u001b[39mcolumns\u001b[38;5;241m.\u001b[39mnlevels \u001b[38;5;241m>\u001b[39m \u001b[38;5;241m1\u001b[39m:\n\u001b[1;32m   4101\u001b[0m     \u001b[38;5;28;01mreturn\u001b[39;00m \u001b[38;5;28mself\u001b[39m\u001b[38;5;241m.\u001b[39m_getitem_multilevel(key)\n\u001b[0;32m-> 4102\u001b[0m indexer \u001b[38;5;241m=\u001b[39m \u001b[38;5;28;43mself\u001b[39;49m\u001b[38;5;241;43m.\u001b[39;49m\u001b[43mcolumns\u001b[49m\u001b[38;5;241;43m.\u001b[39;49m\u001b[43mget_loc\u001b[49m\u001b[43m(\u001b[49m\u001b[43mkey\u001b[49m\u001b[43m)\u001b[49m\n\u001b[1;32m   4103\u001b[0m \u001b[38;5;28;01mif\u001b[39;00m is_integer(indexer):\n\u001b[1;32m   4104\u001b[0m     indexer \u001b[38;5;241m=\u001b[39m [indexer]\n",
      "File \u001b[0;32m~/GitHub/Hackathon_22feb/.venv/lib/python3.10/site-packages/pandas/core/indexes/base.py:3812\u001b[0m, in \u001b[0;36mIndex.get_loc\u001b[0;34m(self, key)\u001b[0m\n\u001b[1;32m   3807\u001b[0m     \u001b[38;5;28;01mif\u001b[39;00m \u001b[38;5;28misinstance\u001b[39m(casted_key, \u001b[38;5;28mslice\u001b[39m) \u001b[38;5;129;01mor\u001b[39;00m (\n\u001b[1;32m   3808\u001b[0m         \u001b[38;5;28misinstance\u001b[39m(casted_key, abc\u001b[38;5;241m.\u001b[39mIterable)\n\u001b[1;32m   3809\u001b[0m         \u001b[38;5;129;01mand\u001b[39;00m \u001b[38;5;28many\u001b[39m(\u001b[38;5;28misinstance\u001b[39m(x, \u001b[38;5;28mslice\u001b[39m) \u001b[38;5;28;01mfor\u001b[39;00m x \u001b[38;5;129;01min\u001b[39;00m casted_key)\n\u001b[1;32m   3810\u001b[0m     ):\n\u001b[1;32m   3811\u001b[0m         \u001b[38;5;28;01mraise\u001b[39;00m InvalidIndexError(key)\n\u001b[0;32m-> 3812\u001b[0m     \u001b[38;5;28;01mraise\u001b[39;00m \u001b[38;5;167;01mKeyError\u001b[39;00m(key) \u001b[38;5;28;01mfrom\u001b[39;00m\u001b[38;5;250m \u001b[39m\u001b[38;5;21;01merr\u001b[39;00m\n\u001b[1;32m   3813\u001b[0m \u001b[38;5;28;01mexcept\u001b[39;00m \u001b[38;5;167;01mTypeError\u001b[39;00m:\n\u001b[1;32m   3814\u001b[0m     \u001b[38;5;66;03m# If we have a listlike key, _check_indexing_error will raise\u001b[39;00m\n\u001b[1;32m   3815\u001b[0m     \u001b[38;5;66;03m#  InvalidIndexError. Otherwise we fall through and re-raise\u001b[39;00m\n\u001b[1;32m   3816\u001b[0m     \u001b[38;5;66;03m#  the TypeError.\u001b[39;00m\n\u001b[1;32m   3817\u001b[0m     \u001b[38;5;28mself\u001b[39m\u001b[38;5;241m.\u001b[39m_check_indexing_error(key)\n",
      "\u001b[0;31mKeyError\u001b[0m: 'value'"
     ]
    }
   ],
   "source": [
    "datam = data.copy()\n",
    "\n",
    "datam['year'] = datam['year'] - 1992\n",
    "datam['sin_month'] = np.sin(2*np.pi*datam['month']/12)\n",
    "datam['cos_month'] = np.cos(2*np.pi*datam['month']/12)\n",
    "\n",
    "# Rolling mean\n",
    "\n"
   ]
  },
  {
   "cell_type": "code",
   "execution_count": null,
   "metadata": {},
   "outputs": [],
   "source": []
  }
 ],
 "metadata": {
  "kernelspec": {
   "display_name": ".venv",
   "language": "python",
   "name": "python3"
  },
  "language_info": {
   "codemirror_mode": {
    "name": "ipython",
    "version": 3
   },
   "file_extension": ".py",
   "mimetype": "text/x-python",
   "name": "python",
   "nbconvert_exporter": "python",
   "pygments_lexer": "ipython3",
   "version": "3.10.14"
  }
 },
 "nbformat": 4,
 "nbformat_minor": 2
}
