{
 "cells": [
  {
   "cell_type": "code",
   "execution_count": 2,
   "metadata": {},
   "outputs": [],
   "source": [
    "import pandas as pd\n",
    "import matplotlib.pyplot as plt\n",
    "from sklearn.model_selection import train_test_split\n",
    "import numpy as np\n",
    "from sklearn.model_selection import train_test_split\n",
    "from sklearn.preprocessing import StandardScaler\n",
    "import tensorflow as tf\n",
    "from tensorflow import keras\n",
    "from tensorflow.keras import layers\n",
    "from tensorflow.keras import layers, callbacks"
   ]
  },
  {
   "cell_type": "code",
   "execution_count": null,
   "metadata": {},
   "outputs": [
    {
     "name": "stdout",
     "output_type": "stream",
     "text": [
      "Training set shape: (5924, 11) (5924,)\n",
      "Test set shape: (659, 11) (659,)\n"
     ]
    }
   ],
   "source": [
    "df = pd.read_csv(\"final_merged.csv\")\n",
    "# Define the ordered categories (assuming months are numbers 1 to 12)\n",
    "month_categories = list(range(1, 13))\n",
    "\n",
    "# Convert the 'month' column to an ordered categorical type without renaming\n",
    "df['month'] = pd.Categorical(df['month'], categories=month_categories, ordered=True)\n",
    "# Convert percentage columns to numerical values\n",
    "df['Percentage of Federal Land'] = df['Percentage of Federal Land'].str.rstrip('%').astype(float)\n",
    "\n",
    "# Select features and target variable\n",
    "features = ['month', 'PRCP', 'EVAP', 'TMIN', 'TMAX', 'mean_elevation',\n",
    "            'Land Area (sq mi)', 'Water Area (sq mi)', 'Total Area (sq mi)',\n",
    "            'Percentage of Federal Land', 'Urbanization Rate (%)']\n",
    "\n",
    "target = 'total_fire_size'\n",
    "\n",
    "X = df[features]\n",
    "y = df[target]\n",
    "\n",
    "# Split the dataset into 90% training and 10% testing\n",
    "X_train, X_test, y_train, y_test = train_test_split(X, y, test_size=0.1, random_state=42)\n",
    "\n",
    "# Display the shapes of the resulting datasets\n",
    "print(\"Training set shape:\", X_train.shape, y_train.shape)\n",
    "print(\"Test set shape:\", X_test.shape, y_test.shape)\n",
    "# Standardize features\n",
    "scaler = StandardScaler()\n",
    "X_train = scaler.fit_transform(X_train)\n",
    "X_test = scaler.transform(X_test)"
   ]
  },
  {
   "cell_type": "code",
   "execution_count": 8,
   "metadata": {},
   "outputs": [
    {
     "data": {
      "text/plain": [
       "array([-0.65682319, -0.53166247,  0.32718297, -0.13829795,  0.46189658,\n",
       "       -0.85436908, -0.40321255, -0.29130358, -0.40373946, -0.59105189,\n",
       "       -1.21931303])"
      ]
     },
     "execution_count": 8,
     "metadata": {},
     "output_type": "execute_result"
    }
   ],
   "source": [
    "X_train[0]"
   ]
  },
  {
   "cell_type": "code",
   "execution_count": 17,
   "metadata": {},
   "outputs": [
    {
     "data": {
      "text/html": [
       "<div>\n",
       "<style scoped>\n",
       "    .dataframe tbody tr th:only-of-type {\n",
       "        vertical-align: middle;\n",
       "    }\n",
       "\n",
       "    .dataframe tbody tr th {\n",
       "        vertical-align: top;\n",
       "    }\n",
       "\n",
       "    .dataframe thead th {\n",
       "        text-align: right;\n",
       "    }\n",
       "</style>\n",
       "<table border=\"1\" class=\"dataframe\">\n",
       "  <thead>\n",
       "    <tr style=\"text-align: right;\">\n",
       "      <th></th>\n",
       "      <th>month</th>\n",
       "      <th>PRCP</th>\n",
       "      <th>EVAP</th>\n",
       "      <th>TMIN</th>\n",
       "      <th>TMAX</th>\n",
       "      <th>mean_elevation</th>\n",
       "      <th>Land Area (sq mi)</th>\n",
       "      <th>Water Area (sq mi)</th>\n",
       "      <th>Total Area (sq mi)</th>\n",
       "      <th>Percentage of Federal Land</th>\n",
       "      <th>Urbanization Rate (%)</th>\n",
       "    </tr>\n",
       "  </thead>\n",
       "  <tbody>\n",
       "    <tr>\n",
       "      <th>0</th>\n",
       "      <td>5</td>\n",
       "      <td>5.36</td>\n",
       "      <td>44.17</td>\n",
       "      <td>-56.0</td>\n",
       "      <td>233.0</td>\n",
       "      <td>580</td>\n",
       "      <td>570641</td>\n",
       "      <td>94743</td>\n",
       "      <td>665384</td>\n",
       "      <td>60.9</td>\n",
       "      <td>64.9</td>\n",
       "    </tr>\n",
       "    <tr>\n",
       "      <th>1</th>\n",
       "      <td>6</td>\n",
       "      <td>14.03</td>\n",
       "      <td>39.27</td>\n",
       "      <td>-17.0</td>\n",
       "      <td>322.0</td>\n",
       "      <td>580</td>\n",
       "      <td>570641</td>\n",
       "      <td>94743</td>\n",
       "      <td>665384</td>\n",
       "      <td>60.9</td>\n",
       "      <td>64.9</td>\n",
       "    </tr>\n",
       "    <tr>\n",
       "      <th>2</th>\n",
       "      <td>7</td>\n",
       "      <td>16.78</td>\n",
       "      <td>30.91</td>\n",
       "      <td>28.0</td>\n",
       "      <td>300.0</td>\n",
       "      <td>580</td>\n",
       "      <td>570641</td>\n",
       "      <td>94743</td>\n",
       "      <td>665384</td>\n",
       "      <td>60.9</td>\n",
       "      <td>64.9</td>\n",
       "    </tr>\n",
       "    <tr>\n",
       "      <th>3</th>\n",
       "      <td>8</td>\n",
       "      <td>10.46</td>\n",
       "      <td>20.14</td>\n",
       "      <td>-33.0</td>\n",
       "      <td>267.0</td>\n",
       "      <td>580</td>\n",
       "      <td>570641</td>\n",
       "      <td>94743</td>\n",
       "      <td>665384</td>\n",
       "      <td>60.9</td>\n",
       "      <td>64.9</td>\n",
       "    </tr>\n",
       "    <tr>\n",
       "      <th>4</th>\n",
       "      <td>9</td>\n",
       "      <td>17.25</td>\n",
       "      <td>15.27</td>\n",
       "      <td>-61.0</td>\n",
       "      <td>183.0</td>\n",
       "      <td>580</td>\n",
       "      <td>570641</td>\n",
       "      <td>94743</td>\n",
       "      <td>665384</td>\n",
       "      <td>60.9</td>\n",
       "      <td>64.9</td>\n",
       "    </tr>\n",
       "    <tr>\n",
       "      <th>...</th>\n",
       "      <td>...</td>\n",
       "      <td>...</td>\n",
       "      <td>...</td>\n",
       "      <td>...</td>\n",
       "      <td>...</td>\n",
       "      <td>...</td>\n",
       "      <td>...</td>\n",
       "      <td>...</td>\n",
       "      <td>...</td>\n",
       "      <td>...</td>\n",
       "      <td>...</td>\n",
       "    </tr>\n",
       "    <tr>\n",
       "      <th>6578</th>\n",
       "      <td>5</td>\n",
       "      <td>2.68</td>\n",
       "      <td>64.76</td>\n",
       "      <td>-22.0</td>\n",
       "      <td>311.0</td>\n",
       "      <td>2040</td>\n",
       "      <td>97093</td>\n",
       "      <td>720</td>\n",
       "      <td>97813</td>\n",
       "      <td>46.7</td>\n",
       "      <td>62.0</td>\n",
       "    </tr>\n",
       "    <tr>\n",
       "      <th>6579</th>\n",
       "      <td>6</td>\n",
       "      <td>24.68</td>\n",
       "      <td>64.64</td>\n",
       "      <td>-22.0</td>\n",
       "      <td>333.0</td>\n",
       "      <td>2040</td>\n",
       "      <td>97093</td>\n",
       "      <td>720</td>\n",
       "      <td>97813</td>\n",
       "      <td>46.7</td>\n",
       "      <td>62.0</td>\n",
       "    </tr>\n",
       "    <tr>\n",
       "      <th>6580</th>\n",
       "      <td>7</td>\n",
       "      <td>5.93</td>\n",
       "      <td>83.97</td>\n",
       "      <td>-11.0</td>\n",
       "      <td>378.0</td>\n",
       "      <td>2040</td>\n",
       "      <td>97093</td>\n",
       "      <td>720</td>\n",
       "      <td>97813</td>\n",
       "      <td>46.7</td>\n",
       "      <td>62.0</td>\n",
       "    </tr>\n",
       "    <tr>\n",
       "      <th>6581</th>\n",
       "      <td>8</td>\n",
       "      <td>9.55</td>\n",
       "      <td>71.71</td>\n",
       "      <td>22.0</td>\n",
       "      <td>356.0</td>\n",
       "      <td>2040</td>\n",
       "      <td>97093</td>\n",
       "      <td>720</td>\n",
       "      <td>97813</td>\n",
       "      <td>46.7</td>\n",
       "      <td>62.0</td>\n",
       "    </tr>\n",
       "    <tr>\n",
       "      <th>6582</th>\n",
       "      <td>9</td>\n",
       "      <td>0.77</td>\n",
       "      <td>72.50</td>\n",
       "      <td>-28.0</td>\n",
       "      <td>361.0</td>\n",
       "      <td>2040</td>\n",
       "      <td>97093</td>\n",
       "      <td>720</td>\n",
       "      <td>97813</td>\n",
       "      <td>46.7</td>\n",
       "      <td>62.0</td>\n",
       "    </tr>\n",
       "  </tbody>\n",
       "</table>\n",
       "<p>6583 rows × 11 columns</p>\n",
       "</div>"
      ],
      "text/plain": [
       "     month   PRCP   EVAP  TMIN   TMAX  mean_elevation  Land Area (sq mi)  \\\n",
       "0        5   5.36  44.17 -56.0  233.0             580             570641   \n",
       "1        6  14.03  39.27 -17.0  322.0             580             570641   \n",
       "2        7  16.78  30.91  28.0  300.0             580             570641   \n",
       "3        8  10.46  20.14 -33.0  267.0             580             570641   \n",
       "4        9  17.25  15.27 -61.0  183.0             580             570641   \n",
       "...    ...    ...    ...   ...    ...             ...                ...   \n",
       "6578     5   2.68  64.76 -22.0  311.0            2040              97093   \n",
       "6579     6  24.68  64.64 -22.0  333.0            2040              97093   \n",
       "6580     7   5.93  83.97 -11.0  378.0            2040              97093   \n",
       "6581     8   9.55  71.71  22.0  356.0            2040              97093   \n",
       "6582     9   0.77  72.50 -28.0  361.0            2040              97093   \n",
       "\n",
       "      Water Area (sq mi)  Total Area (sq mi)  Percentage of Federal Land  \\\n",
       "0                  94743              665384                        60.9   \n",
       "1                  94743              665384                        60.9   \n",
       "2                  94743              665384                        60.9   \n",
       "3                  94743              665384                        60.9   \n",
       "4                  94743              665384                        60.9   \n",
       "...                  ...                 ...                         ...   \n",
       "6578                 720               97813                        46.7   \n",
       "6579                 720               97813                        46.7   \n",
       "6580                 720               97813                        46.7   \n",
       "6581                 720               97813                        46.7   \n",
       "6582                 720               97813                        46.7   \n",
       "\n",
       "      Urbanization Rate (%)  \n",
       "0                      64.9  \n",
       "1                      64.9  \n",
       "2                      64.9  \n",
       "3                      64.9  \n",
       "4                      64.9  \n",
       "...                     ...  \n",
       "6578                   62.0  \n",
       "6579                   62.0  \n",
       "6580                   62.0  \n",
       "6581                   62.0  \n",
       "6582                   62.0  \n",
       "\n",
       "[6583 rows x 11 columns]"
      ]
     },
     "execution_count": 17,
     "metadata": {},
     "output_type": "execute_result"
    }
   ],
   "source": [
    "X"
   ]
  },
  {
   "cell_type": "code",
   "execution_count": null,
   "metadata": {},
   "outputs": [
    {
     "data": {
      "text/plain": [
       "11"
      ]
     },
     "execution_count": 9,
     "metadata": {},
     "output_type": "execute_result"
    }
   ],
   "source": [
    "len(X_train[0])"
   ]
  },
  {
   "cell_type": "code",
   "execution_count": 10,
   "metadata": {},
   "outputs": [
    {
     "data": {
      "text/plain": [
       "3365    1700.270\n",
       "501      313.900\n",
       "3908     327.000\n",
       "2091       1.700\n",
       "2754     238.190\n",
       "          ...   \n",
       "3772      24.300\n",
       "5191    1145.772\n",
       "5226      25.000\n",
       "5390    2729.400\n",
       "860     3543.150\n",
       "Name: total_fire_size, Length: 5924, dtype: float64"
      ]
     },
     "execution_count": 10,
     "metadata": {},
     "output_type": "execute_result"
    }
   ],
   "source": [
    "y_train"
   ]
  },
  {
   "cell_type": "code",
   "execution_count": 12,
   "metadata": {},
   "outputs": [
    {
     "name": "stdout",
     "output_type": "stream",
     "text": [
      "month                        -0.013289\n",
      "PRCP                         -0.115773\n",
      "EVAP                          0.109793\n",
      "TMIN                         -0.002862\n",
      "TMAX                          0.101767\n",
      "mean_elevation                0.091965\n",
      "Land Area (sq mi)             0.281245\n",
      "Water Area (sq mi)            0.248905\n",
      "Total Area (sq mi)            0.287827\n",
      "Percentage of Federal Land    0.190110\n",
      "Urbanization Rate (%)         0.028945\n",
      "Name: total_fire_size, dtype: float64\n"
     ]
    }
   ],
   "source": [
    "df = X.copy()\n",
    "df['total_fire_size'] = y\n",
    "\n",
    "# Compute the correlation matrix\n",
    "corr_matrix = df.corr()\n",
    "\n",
    "# Extract correlation between total_fire_size and each feature\n",
    "y_corr = corr_matrix['total_fire_size'].drop('total_fire_size')\n",
    "\n",
    "print(y_corr)"
   ]
  },
  {
   "cell_type": "code",
   "execution_count": 18,
   "metadata": {},
   "outputs": [
    {
     "data": {
      "image/png": "[encoded data removed]",
      "text/plain": [
       "<Figure size 800x600 with 1 Axes>"
      ]
     },
     "metadata": {},
     "output_type": "display_data"
    }
   ],
   "source": [
    "# Create the scatter plot\n",
    "plt.figure(figsize=(8, 6))\n",
    "plt.scatter(df['month'], df['total_fire_size'], alpha=0.6, edgecolors='w', linewidth=0.5)\n",
    "plt.title('Scatter Plot of Month vs Total Fire Size')\n",
    "plt.xlabel('Month')\n",
    "plt.ylabel('Total Fire Size')\n",
    "plt.grid(True)\n",
    "plt.show()"
   ]
  }
 ],
 "metadata": {
  "kernelspec": {
   "display_name": "block_c",
   "language": "python",
   "name": "python3"
  },
  "language_info": {
   "codemirror_mode": {
    "name": "ipython",
    "version": 3
   },
   "file_extension": ".py",
   "mimetype": "text/x-python",
   "name": "python",
   "nbconvert_exporter": "python",
   "pygments_lexer": "ipython3",
   "version": "3.10.13"
  }
 },
 "nbformat": 4,
 "nbformat_minor": 2
}
