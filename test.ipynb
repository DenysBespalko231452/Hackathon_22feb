{
 "cells": [
  {
   "cell_type": "code",
   "execution_count": 1,
   "metadata": {},
   "outputs": [],
   "source": [
    "import numpy as np # linear algebra\n",
    "import pandas as pd # data processing, CSV file I/O (e.g. pd.read_csv)\\\n",
    "import missingno as msno\n",
    "import matplotlib.pyplot as plt\n",
    "import datetime as dt"
   ]
  },
  {
   "cell_type": "code",
   "execution_count": 2,
   "metadata": {},
   "outputs": [
    {
     "data": {
      "application/vnd.microsoft.datawrangler.viewer.v0+json": {
       "columns": [
        {
         "name": "index",
         "rawType": "int64",
         "type": "integer"
        },
        {
         "name": "State",
         "rawType": "object",
         "type": "string"
        },
        {
         "name": "mean_elevation",
         "rawType": "int64",
         "type": "integer"
        },
        {
         "name": "Land Area (sq mi)",
         "rawType": "int64",
         "type": "integer"
        },
        {
         "name": "Water Area (sq mi)",
         "rawType": "int64",
         "type": "integer"
        },
        {
         "name": "Total Area (sq mi)",
         "rawType": "int64",
         "type": "integer"
        },
        {
         "name": "Percentage of Federal Land",
         "rawType": "object",
         "type": "string"
        },
        {
         "name": "Urbanization Rate (%)",
         "rawType": "float64",
         "type": "float"
        }
       ],
       "conversionMethod": "pd.DataFrame",
       "ref": "cf1127f1-ba24-4b7b-ab25-316a6a9b8667",
       "rows": [
        [
         "0",
         "AK",
         "580",
         "570641",
         "94743",
         "665384",
         "60.9%",
         "64.9"
        ],
        [
         "1",
         "AL",
         "150",
         "50645",
         "1775",
         "52420",
         "2.7%",
         "57.7"
        ],
        [
         "2",
         "AR",
         "200",
         "52035",
         "1143",
         "53179",
         "9.4%",
         "55.5"
        ],
        [
         "3",
         "AZ",
         "1250",
         "113594",
         "396",
         "113990",
         "38.6%",
         "89.3"
        ],
        [
         "4",
         "CA",
         "880",
         "155779",
         "7916",
         "163695",
         "45.4%",
         "94.2"
        ]
       ],
       "shape": {
        "columns": 7,
        "rows": 5
       }
      },
      "text/html": [
       "<div>\n",
       "<style scoped>\n",
       "    .dataframe tbody tr th:only-of-type {\n",
       "        vertical-align: middle;\n",
       "    }\n",
       "\n",
       "    .dataframe tbody tr th {\n",
       "        vertical-align: top;\n",
       "    }\n",
       "\n",
       "    .dataframe thead th {\n",
       "        text-align: right;\n",
       "    }\n",
       "</style>\n",
       "<table border=\"1\" class=\"dataframe\">\n",
       "  <thead>\n",
       "    <tr style=\"text-align: right;\">\n",
       "      <th></th>\n",
       "      <th>State</th>\n",
       "      <th>mean_elevation</th>\n",
       "      <th>Land Area (sq mi)</th>\n",
       "      <th>Water Area (sq mi)</th>\n",
       "      <th>Total Area (sq mi)</th>\n",
       "      <th>Percentage of Federal Land</th>\n",
       "      <th>Urbanization Rate (%)</th>\n",
       "    </tr>\n",
       "  </thead>\n",
       "  <tbody>\n",
       "    <tr>\n",
       "      <th>0</th>\n",
       "      <td>AK</td>\n",
       "      <td>580</td>\n",
       "      <td>570641</td>\n",
       "      <td>94743</td>\n",
       "      <td>665384</td>\n",
       "      <td>60.9%</td>\n",
       "      <td>64.9</td>\n",
       "    </tr>\n",
       "    <tr>\n",
       "      <th>1</th>\n",
       "      <td>AL</td>\n",
       "      <td>150</td>\n",
       "      <td>50645</td>\n",
       "      <td>1775</td>\n",
       "      <td>52420</td>\n",
       "      <td>2.7%</td>\n",
       "      <td>57.7</td>\n",
       "    </tr>\n",
       "    <tr>\n",
       "      <th>2</th>\n",
       "      <td>AR</td>\n",
       "      <td>200</td>\n",
       "      <td>52035</td>\n",
       "      <td>1143</td>\n",
       "      <td>53179</td>\n",
       "      <td>9.4%</td>\n",
       "      <td>55.5</td>\n",
       "    </tr>\n",
       "    <tr>\n",
       "      <th>3</th>\n",
       "      <td>AZ</td>\n",
       "      <td>1250</td>\n",
       "      <td>113594</td>\n",
       "      <td>396</td>\n",
       "      <td>113990</td>\n",
       "      <td>38.6%</td>\n",
       "      <td>89.3</td>\n",
       "    </tr>\n",
       "    <tr>\n",
       "      <th>4</th>\n",
       "      <td>CA</td>\n",
       "      <td>880</td>\n",
       "      <td>155779</td>\n",
       "      <td>7916</td>\n",
       "      <td>163695</td>\n",
       "      <td>45.4%</td>\n",
       "      <td>94.2</td>\n",
       "    </tr>\n",
       "  </tbody>\n",
       "</table>\n",
       "</div>"
      ],
      "text/plain": [
       "  State  mean_elevation  Land Area (sq mi)  Water Area (sq mi)  \\\n",
       "0    AK             580             570641               94743   \n",
       "1    AL             150              50645                1775   \n",
       "2    AR             200              52035                1143   \n",
       "3    AZ            1250             113594                 396   \n",
       "4    CA             880             155779                7916   \n",
       "\n",
       "   Total Area (sq mi) Percentage of Federal Land  Urbanization Rate (%)  \n",
       "0              665384                      60.9%                   64.9  \n",
       "1               52420                       2.7%                   57.7  \n",
       "2               53179                       9.4%                   55.5  \n",
       "3              113990                      38.6%                   89.3  \n",
       "4              163695                      45.4%                   94.2  "
      ]
     },
     "execution_count": 2,
     "metadata": {},
     "output_type": "execute_result"
    }
   ],
   "source": [
    "merged = pd.read_csv('data/merged_state_data.csv')\n",
    "merged.head(5)"
   ]
  },
  {
   "cell_type": "markdown",
   "metadata": {},
   "source": [
    "# Wethaer monthly state agreggate prep"
   ]
  },
  {
   "cell_type": "code",
   "execution_count": 3,
   "metadata": {},
   "outputs": [
    {
     "data": {
      "application/vnd.microsoft.datawrangler.viewer.v0+json": {
       "columns": [
        {
         "name": "index",
         "rawType": "int64",
         "type": "integer"
        },
        {
         "name": "State",
         "rawType": "object",
         "type": "string"
        },
        {
         "name": "year_month",
         "rawType": "object",
         "type": "string"
        },
        {
         "name": "PRCP",
         "rawType": "float64",
         "type": "float"
        },
        {
         "name": "EVAP",
         "rawType": "float64",
         "type": "float"
        },
        {
         "name": "TMIN",
         "rawType": "float64",
         "type": "float"
        },
        {
         "name": "TMAX",
         "rawType": "float64",
         "type": "float"
        }
       ],
       "conversionMethod": "pd.DataFrame",
       "ref": "9ee5c55a-714d-461a-a2bf-448e35275250",
       "rows": [
        [
         "0",
         "AK",
         "1992-05",
         "5.36",
         "44.17",
         "-56.0",
         "233.0"
        ],
        [
         "1",
         "AK",
         "1992-06",
         "14.03",
         "39.27",
         "-17.0",
         "322.0"
        ],
        [
         "2",
         "AK",
         "1992-07",
         "16.78",
         "30.91",
         "28.0",
         "300.0"
        ],
        [
         "3",
         "AK",
         "1992-08",
         "10.46",
         "20.14",
         "-33.0",
         "267.0"
        ],
        [
         "4",
         "AK",
         "1992-09",
         "17.25",
         "15.27",
         "-61.0",
         "183.0"
        ]
       ],
       "shape": {
        "columns": 6,
        "rows": 5
       }
      },
      "text/html": [
       "<div>\n",
       "<style scoped>\n",
       "    .dataframe tbody tr th:only-of-type {\n",
       "        vertical-align: middle;\n",
       "    }\n",
       "\n",
       "    .dataframe tbody tr th {\n",
       "        vertical-align: top;\n",
       "    }\n",
       "\n",
       "    .dataframe thead th {\n",
       "        text-align: right;\n",
       "    }\n",
       "</style>\n",
       "<table border=\"1\" class=\"dataframe\">\n",
       "  <thead>\n",
       "    <tr style=\"text-align: right;\">\n",
       "      <th></th>\n",
       "      <th>State</th>\n",
       "      <th>year_month</th>\n",
       "      <th>PRCP</th>\n",
       "      <th>EVAP</th>\n",
       "      <th>TMIN</th>\n",
       "      <th>TMAX</th>\n",
       "    </tr>\n",
       "  </thead>\n",
       "  <tbody>\n",
       "    <tr>\n",
       "      <th>0</th>\n",
       "      <td>AK</td>\n",
       "      <td>1992-05</td>\n",
       "      <td>5.36</td>\n",
       "      <td>44.17</td>\n",
       "      <td>-56.0</td>\n",
       "      <td>233.0</td>\n",
       "    </tr>\n",
       "    <tr>\n",
       "      <th>1</th>\n",
       "      <td>AK</td>\n",
       "      <td>1992-06</td>\n",
       "      <td>14.03</td>\n",
       "      <td>39.27</td>\n",
       "      <td>-17.0</td>\n",
       "      <td>322.0</td>\n",
       "    </tr>\n",
       "    <tr>\n",
       "      <th>2</th>\n",
       "      <td>AK</td>\n",
       "      <td>1992-07</td>\n",
       "      <td>16.78</td>\n",
       "      <td>30.91</td>\n",
       "      <td>28.0</td>\n",
       "      <td>300.0</td>\n",
       "    </tr>\n",
       "    <tr>\n",
       "      <th>3</th>\n",
       "      <td>AK</td>\n",
       "      <td>1992-08</td>\n",
       "      <td>10.46</td>\n",
       "      <td>20.14</td>\n",
       "      <td>-33.0</td>\n",
       "      <td>267.0</td>\n",
       "    </tr>\n",
       "    <tr>\n",
       "      <th>4</th>\n",
       "      <td>AK</td>\n",
       "      <td>1992-09</td>\n",
       "      <td>17.25</td>\n",
       "      <td>15.27</td>\n",
       "      <td>-61.0</td>\n",
       "      <td>183.0</td>\n",
       "    </tr>\n",
       "  </tbody>\n",
       "</table>\n",
       "</div>"
      ],
      "text/plain": [
       "  State year_month   PRCP   EVAP  TMIN   TMAX\n",
       "0    AK    1992-05   5.36  44.17 -56.0  233.0\n",
       "1    AK    1992-06  14.03  39.27 -17.0  322.0\n",
       "2    AK    1992-07  16.78  30.91  28.0  300.0\n",
       "3    AK    1992-08  10.46  20.14 -33.0  267.0\n",
       "4    AK    1992-09  17.25  15.27 -61.0  183.0"
      ]
     },
     "execution_count": 3,
     "metadata": {},
     "output_type": "execute_result"
    }
   ],
   "source": [
    "weather_monthly = pd.read_csv('data/weather_monthly_state_aggregates.csv')\n",
    "weather_monthly.head(5)"
   ]
  },
  {
   "cell_type": "code",
   "execution_count": 10,
   "metadata": {},
   "outputs": [
    {
     "data": {
      "application/vnd.microsoft.datawrangler.viewer.v0+json": {
       "columns": [
        {
         "name": "index",
         "rawType": "int64",
         "type": "integer"
        },
        {
         "name": "State",
         "rawType": "object",
         "type": "string"
        },
        {
         "name": "PRCP",
         "rawType": "float64",
         "type": "float"
        },
        {
         "name": "EVAP",
         "rawType": "float64",
         "type": "float"
        },
        {
         "name": "TMIN",
         "rawType": "float64",
         "type": "float"
        },
        {
         "name": "TMAX",
         "rawType": "float64",
         "type": "float"
        },
        {
         "name": "month",
         "rawType": "int32",
         "type": "integer"
        },
        {
         "name": "year",
         "rawType": "int32",
         "type": "integer"
        }
       ],
       "conversionMethod": "pd.DataFrame",
       "ref": "fef7f6ce-422b-44ef-aa89-1c4d1b474e59",
       "rows": [
        [
         "0",
         "AK",
         "5.36",
         "44.17",
         "-56.0",
         "233.0",
         "5",
         "1992"
        ],
        [
         "1",
         "AK",
         "14.03",
         "39.27",
         "-17.0",
         "322.0",
         "6",
         "1992"
        ],
        [
         "2",
         "AK",
         "16.78",
         "30.91",
         "28.0",
         "300.0",
         "7",
         "1992"
        ],
        [
         "3",
         "AK",
         "10.46",
         "20.14",
         "-33.0",
         "267.0",
         "8",
         "1992"
        ],
        [
         "4",
         "AK",
         "17.25",
         "15.27",
         "-61.0",
         "183.0",
         "9",
         "1992"
        ]
       ],
       "shape": {
        "columns": 7,
        "rows": 5
       }
      },
      "text/html": [
       "<div>\n",
       "<style scoped>\n",
       "    .dataframe tbody tr th:only-of-type {\n",
       "        vertical-align: middle;\n",
       "    }\n",
       "\n",
       "    .dataframe tbody tr th {\n",
       "        vertical-align: top;\n",
       "    }\n",
       "\n",
       "    .dataframe thead th {\n",
       "        text-align: right;\n",
       "    }\n",
       "</style>\n",
       "<table border=\"1\" class=\"dataframe\">\n",
       "  <thead>\n",
       "    <tr style=\"text-align: right;\">\n",
       "      <th></th>\n",
       "      <th>State</th>\n",
       "      <th>PRCP</th>\n",
       "      <th>EVAP</th>\n",
       "      <th>TMIN</th>\n",
       "      <th>TMAX</th>\n",
       "      <th>month</th>\n",
       "      <th>year</th>\n",
       "    </tr>\n",
       "  </thead>\n",
       "  <tbody>\n",
       "    <tr>\n",
       "      <th>0</th>\n",
       "      <td>AK</td>\n",
       "      <td>5.36</td>\n",
       "      <td>44.17</td>\n",
       "      <td>-56.0</td>\n",
       "      <td>233.0</td>\n",
       "      <td>5</td>\n",
       "      <td>1992</td>\n",
       "    </tr>\n",
       "    <tr>\n",
       "      <th>1</th>\n",
       "      <td>AK</td>\n",
       "      <td>14.03</td>\n",
       "      <td>39.27</td>\n",
       "      <td>-17.0</td>\n",
       "      <td>322.0</td>\n",
       "      <td>6</td>\n",
       "      <td>1992</td>\n",
       "    </tr>\n",
       "    <tr>\n",
       "      <th>2</th>\n",
       "      <td>AK</td>\n",
       "      <td>16.78</td>\n",
       "      <td>30.91</td>\n",
       "      <td>28.0</td>\n",
       "      <td>300.0</td>\n",
       "      <td>7</td>\n",
       "      <td>1992</td>\n",
       "    </tr>\n",
       "    <tr>\n",
       "      <th>3</th>\n",
       "      <td>AK</td>\n",
       "      <td>10.46</td>\n",
       "      <td>20.14</td>\n",
       "      <td>-33.0</td>\n",
       "      <td>267.0</td>\n",
       "      <td>8</td>\n",
       "      <td>1992</td>\n",
       "    </tr>\n",
       "    <tr>\n",
       "      <th>4</th>\n",
       "      <td>AK</td>\n",
       "      <td>17.25</td>\n",
       "      <td>15.27</td>\n",
       "      <td>-61.0</td>\n",
       "      <td>183.0</td>\n",
       "      <td>9</td>\n",
       "      <td>1992</td>\n",
       "    </tr>\n",
       "  </tbody>\n",
       "</table>\n",
       "</div>"
      ],
      "text/plain": [
       "  State   PRCP   EVAP  TMIN   TMAX  month  year\n",
       "0    AK   5.36  44.17 -56.0  233.0      5  1992\n",
       "1    AK  14.03  39.27 -17.0  322.0      6  1992\n",
       "2    AK  16.78  30.91  28.0  300.0      7  1992\n",
       "3    AK  10.46  20.14 -33.0  267.0      8  1992\n",
       "4    AK  17.25  15.27 -61.0  183.0      9  1992"
      ]
     },
     "execution_count": 10,
     "metadata": {},
     "output_type": "execute_result"
    }
   ],
   "source": [
    "weather_monthly['month'] = pd.to_datetime(weather_monthly['year_month']).dt.month\n",
    "weather_monthly['year'] = pd.to_datetime(weather_monthly['year_month']).dt.year\n",
    "weather_monthly.drop(columns=['year_month'], inplace=True)\n",
    "weather_monthly.head(5)"
   ]
  },
  {
   "cell_type": "code",
   "execution_count": 18,
   "metadata": {},
   "outputs": [
    {
     "data": {
      "text/plain": [
       "(11775, 7)"
      ]
     },
     "execution_count": 18,
     "metadata": {},
     "output_type": "execute_result"
    }
   ],
   "source": [
    "weather_monthly.shape"
   ]
  },
  {
   "cell_type": "markdown",
   "metadata": {},
   "source": [
    "# WILDFIRE Dataset prep"
   ]
  },
  {
   "cell_type": "code",
   "execution_count": 7,
   "metadata": {},
   "outputs": [
    {
     "data": {
      "application/vnd.microsoft.datawrangler.viewer.v0+json": {
       "columns": [
        {
         "name": "index",
         "rawType": "int64",
         "type": "integer"
        },
        {
         "name": "STATE",
         "rawType": "object",
         "type": "string"
        },
        {
         "name": "year_month",
         "rawType": "object",
         "type": "string"
        },
        {
         "name": "total_fire_size",
         "rawType": "float64",
         "type": "float"
        }
       ],
       "conversionMethod": "pd.DataFrame",
       "ref": "9a9022ae-c3ac-499f-bb78-f3859d48ebcd",
       "rows": [
        [
         "0",
         "AK",
         "1992-04",
         "10.1"
        ],
        [
         "1",
         "AK",
         "1992-05",
         "4309.5"
        ],
        [
         "2",
         "AK",
         "1992-06",
         "86460.6"
        ],
        [
         "3",
         "AK",
         "1992-07",
         "48578.5"
        ],
        [
         "4",
         "AK",
         "1992-08",
         "3321.8"
        ]
       ],
       "shape": {
        "columns": 3,
        "rows": 5
       }
      },
      "text/html": [
       "<div>\n",
       "<style scoped>\n",
       "    .dataframe tbody tr th:only-of-type {\n",
       "        vertical-align: middle;\n",
       "    }\n",
       "\n",
       "    .dataframe tbody tr th {\n",
       "        vertical-align: top;\n",
       "    }\n",
       "\n",
       "    .dataframe thead th {\n",
       "        text-align: right;\n",
       "    }\n",
       "</style>\n",
       "<table border=\"1\" class=\"dataframe\">\n",
       "  <thead>\n",
       "    <tr style=\"text-align: right;\">\n",
       "      <th></th>\n",
       "      <th>STATE</th>\n",
       "      <th>year_month</th>\n",
       "      <th>total_fire_size</th>\n",
       "    </tr>\n",
       "  </thead>\n",
       "  <tbody>\n",
       "    <tr>\n",
       "      <th>0</th>\n",
       "      <td>AK</td>\n",
       "      <td>1992-04</td>\n",
       "      <td>10.1</td>\n",
       "    </tr>\n",
       "    <tr>\n",
       "      <th>1</th>\n",
       "      <td>AK</td>\n",
       "      <td>1992-05</td>\n",
       "      <td>4309.5</td>\n",
       "    </tr>\n",
       "    <tr>\n",
       "      <th>2</th>\n",
       "      <td>AK</td>\n",
       "      <td>1992-06</td>\n",
       "      <td>86460.6</td>\n",
       "    </tr>\n",
       "    <tr>\n",
       "      <th>3</th>\n",
       "      <td>AK</td>\n",
       "      <td>1992-07</td>\n",
       "      <td>48578.5</td>\n",
       "    </tr>\n",
       "    <tr>\n",
       "      <th>4</th>\n",
       "      <td>AK</td>\n",
       "      <td>1992-08</td>\n",
       "      <td>3321.8</td>\n",
       "    </tr>\n",
       "  </tbody>\n",
       "</table>\n",
       "</div>"
      ],
      "text/plain": [
       "  STATE year_month  total_fire_size\n",
       "0    AK    1992-04             10.1\n",
       "1    AK    1992-05           4309.5\n",
       "2    AK    1992-06          86460.6\n",
       "3    AK    1992-07          48578.5\n",
       "4    AK    1992-08           3321.8"
      ]
     },
     "execution_count": 7,
     "metadata": {},
     "output_type": "execute_result"
    }
   ],
   "source": [
    "wildfire_size = pd.read_csv('data/wildfire_sizes_before_2010.csv')\n",
    "\n",
    "wildfire_size.rename(columns={'month': 'year_month'}, inplace=True)\n",
    "wildfire_size.head(5)"
   ]
  },
  {
   "cell_type": "code",
   "execution_count": 9,
   "metadata": {},
   "outputs": [
    {
     "data": {
      "application/vnd.microsoft.datawrangler.viewer.v0+json": {
       "columns": [
        {
         "name": "index",
         "rawType": "int64",
         "type": "integer"
        },
        {
         "name": "STATE",
         "rawType": "object",
         "type": "string"
        },
        {
         "name": "total_fire_size",
         "rawType": "float64",
         "type": "float"
        },
        {
         "name": "month",
         "rawType": "int32",
         "type": "integer"
        },
        {
         "name": "year",
         "rawType": "int32",
         "type": "integer"
        }
       ],
       "conversionMethod": "pd.DataFrame",
       "ref": "bf55e20c-cf6a-401c-b77e-b0ac97c0f4b4",
       "rows": [
        [
         "0",
         "AK",
         "10.1",
         "4",
         "1992"
        ],
        [
         "1",
         "AK",
         "4309.5",
         "5",
         "1992"
        ],
        [
         "2",
         "AK",
         "86460.6",
         "6",
         "1992"
        ],
        [
         "3",
         "AK",
         "48578.5",
         "7",
         "1992"
        ],
        [
         "4",
         "AK",
         "3321.8",
         "8",
         "1992"
        ]
       ],
       "shape": {
        "columns": 4,
        "rows": 5
       }
      },
      "text/html": [
       "<div>\n",
       "<style scoped>\n",
       "    .dataframe tbody tr th:only-of-type {\n",
       "        vertical-align: middle;\n",
       "    }\n",
       "\n",
       "    .dataframe tbody tr th {\n",
       "        vertical-align: top;\n",
       "    }\n",
       "\n",
       "    .dataframe thead th {\n",
       "        text-align: right;\n",
       "    }\n",
       "</style>\n",
       "<table border=\"1\" class=\"dataframe\">\n",
       "  <thead>\n",
       "    <tr style=\"text-align: right;\">\n",
       "      <th></th>\n",
       "      <th>STATE</th>\n",
       "      <th>total_fire_size</th>\n",
       "      <th>month</th>\n",
       "      <th>year</th>\n",
       "    </tr>\n",
       "  </thead>\n",
       "  <tbody>\n",
       "    <tr>\n",
       "      <th>0</th>\n",
       "      <td>AK</td>\n",
       "      <td>10.1</td>\n",
       "      <td>4</td>\n",
       "      <td>1992</td>\n",
       "    </tr>\n",
       "    <tr>\n",
       "      <th>1</th>\n",
       "      <td>AK</td>\n",
       "      <td>4309.5</td>\n",
       "      <td>5</td>\n",
       "      <td>1992</td>\n",
       "    </tr>\n",
       "    <tr>\n",
       "      <th>2</th>\n",
       "      <td>AK</td>\n",
       "      <td>86460.6</td>\n",
       "      <td>6</td>\n",
       "      <td>1992</td>\n",
       "    </tr>\n",
       "    <tr>\n",
       "      <th>3</th>\n",
       "      <td>AK</td>\n",
       "      <td>48578.5</td>\n",
       "      <td>7</td>\n",
       "      <td>1992</td>\n",
       "    </tr>\n",
       "    <tr>\n",
       "      <th>4</th>\n",
       "      <td>AK</td>\n",
       "      <td>3321.8</td>\n",
       "      <td>8</td>\n",
       "      <td>1992</td>\n",
       "    </tr>\n",
       "  </tbody>\n",
       "</table>\n",
       "</div>"
      ],
      "text/plain": [
       "  STATE  total_fire_size  month  year\n",
       "0    AK             10.1      4  1992\n",
       "1    AK           4309.5      5  1992\n",
       "2    AK          86460.6      6  1992\n",
       "3    AK          48578.5      7  1992\n",
       "4    AK           3321.8      8  1992"
      ]
     },
     "execution_count": 9,
     "metadata": {},
     "output_type": "execute_result"
    }
   ],
   "source": [
    "wildfire_size['month'] = pd.to_datetime(wildfire_size['year_month']).dt.month\n",
    "wildfire_size['year'] = pd.to_datetime(wildfire_size['year_month']).dt.year\n",
    "wildfire_size.drop(columns=['year_month'], inplace=True)\n",
    "wildfire_size.head(5)"
   ]
  },
  {
   "cell_type": "code",
   "execution_count": 17,
   "metadata": {},
   "outputs": [
    {
     "data": {
      "text/plain": [
       "(9632, 4)"
      ]
     },
     "execution_count": 17,
     "metadata": {},
     "output_type": "execute_result"
    }
   ],
   "source": [
    "wildfire_size.shape"
   ]
  },
  {
   "cell_type": "markdown",
   "metadata": {},
   "source": [
    "# Concatenation"
   ]
  },
  {
   "cell_type": "code",
   "execution_count": 20,
   "metadata": {},
   "outputs": [
    {
     "data": {
      "application/vnd.microsoft.datawrangler.viewer.v0+json": {
       "columns": [
        {
         "name": "index",
         "rawType": "int64",
         "type": "integer"
        },
        {
         "name": "State",
         "rawType": "object",
         "type": "string"
        },
        {
         "name": "year",
         "rawType": "int32",
         "type": "integer"
        },
        {
         "name": "month",
         "rawType": "int32",
         "type": "integer"
        },
        {
         "name": "PRCP",
         "rawType": "float64",
         "type": "float"
        },
        {
         "name": "EVAP",
         "rawType": "float64",
         "type": "float"
        },
        {
         "name": "TMIN",
         "rawType": "float64",
         "type": "float"
        },
        {
         "name": "TMAX",
         "rawType": "float64",
         "type": "float"
        },
        {
         "name": "mean_elevation",
         "rawType": "int64",
         "type": "integer"
        },
        {
         "name": "Land Area (sq mi)",
         "rawType": "int64",
         "type": "integer"
        },
        {
         "name": "Water Area (sq mi)",
         "rawType": "int64",
         "type": "integer"
        },
        {
         "name": "Total Area (sq mi)",
         "rawType": "int64",
         "type": "integer"
        },
        {
         "name": "Percentage of Federal Land",
         "rawType": "object",
         "type": "string"
        },
        {
         "name": "Urbanization Rate (%)",
         "rawType": "float64",
         "type": "float"
        },
        {
         "name": "total_fire_size",
         "rawType": "float64",
         "type": "float"
        }
       ],
       "conversionMethod": "pd.DataFrame",
       "ref": "ee705664-dc3b-40ae-914b-1b7ff1d44f03",
       "rows": [
        [
         "0",
         "AK",
         "1992",
         "5",
         "5.36",
         "44.17",
         "-56.0",
         "233.0",
         "580",
         "570641",
         "94743",
         "665384",
         "60.9%",
         "64.9",
         "4309.5"
        ],
        [
         "1",
         "AK",
         "1992",
         "6",
         "14.03",
         "39.27",
         "-17.0",
         "322.0",
         "580",
         "570641",
         "94743",
         "665384",
         "60.9%",
         "64.9",
         "86460.6"
        ],
        [
         "2",
         "AK",
         "1992",
         "7",
         "16.78",
         "30.91",
         "28.0",
         "300.0",
         "580",
         "570641",
         "94743",
         "665384",
         "60.9%",
         "64.9",
         "48578.5"
        ],
        [
         "3",
         "AK",
         "1992",
         "8",
         "10.46",
         "20.14",
         "-33.0",
         "267.0",
         "580",
         "570641",
         "94743",
         "665384",
         "60.9%",
         "64.9",
         "3321.8"
        ],
        [
         "4",
         "AK",
         "1992",
         "9",
         "17.25",
         "15.27",
         "-61.0",
         "183.0",
         "580",
         "570641",
         "94743",
         "665384",
         "60.9%",
         "64.9",
         "35.8"
        ]
       ],
       "shape": {
        "columns": 14,
        "rows": 5
       }
      },
      "text/html": [
       "<div>\n",
       "<style scoped>\n",
       "    .dataframe tbody tr th:only-of-type {\n",
       "        vertical-align: middle;\n",
       "    }\n",
       "\n",
       "    .dataframe tbody tr th {\n",
       "        vertical-align: top;\n",
       "    }\n",
       "\n",
       "    .dataframe thead th {\n",
       "        text-align: right;\n",
       "    }\n",
       "</style>\n",
       "<table border=\"1\" class=\"dataframe\">\n",
       "  <thead>\n",
       "    <tr style=\"text-align: right;\">\n",
       "      <th></th>\n",
       "      <th>State</th>\n",
       "      <th>year</th>\n",
       "      <th>month</th>\n",
       "      <th>PRCP</th>\n",
       "      <th>EVAP</th>\n",
       "      <th>TMIN</th>\n",
       "      <th>TMAX</th>\n",
       "      <th>mean_elevation</th>\n",
       "      <th>Land Area (sq mi)</th>\n",
       "      <th>Water Area (sq mi)</th>\n",
       "      <th>Total Area (sq mi)</th>\n",
       "      <th>Percentage of Federal Land</th>\n",
       "      <th>Urbanization Rate (%)</th>\n",
       "      <th>total_fire_size</th>\n",
       "    </tr>\n",
       "  </thead>\n",
       "  <tbody>\n",
       "    <tr>\n",
       "      <th>0</th>\n",
       "      <td>AK</td>\n",
       "      <td>1992</td>\n",
       "      <td>5</td>\n",
       "      <td>5.36</td>\n",
       "      <td>44.17</td>\n",
       "      <td>-56.0</td>\n",
       "      <td>233.0</td>\n",
       "      <td>580</td>\n",
       "      <td>570641</td>\n",
       "      <td>94743</td>\n",
       "      <td>665384</td>\n",
       "      <td>60.9%</td>\n",
       "      <td>64.9</td>\n",
       "      <td>4309.5</td>\n",
       "    </tr>\n",
       "    <tr>\n",
       "      <th>1</th>\n",
       "      <td>AK</td>\n",
       "      <td>1992</td>\n",
       "      <td>6</td>\n",
       "      <td>14.03</td>\n",
       "      <td>39.27</td>\n",
       "      <td>-17.0</td>\n",
       "      <td>322.0</td>\n",
       "      <td>580</td>\n",
       "      <td>570641</td>\n",
       "      <td>94743</td>\n",
       "      <td>665384</td>\n",
       "      <td>60.9%</td>\n",
       "      <td>64.9</td>\n",
       "      <td>86460.6</td>\n",
       "    </tr>\n",
       "    <tr>\n",
       "      <th>2</th>\n",
       "      <td>AK</td>\n",
       "      <td>1992</td>\n",
       "      <td>7</td>\n",
       "      <td>16.78</td>\n",
       "      <td>30.91</td>\n",
       "      <td>28.0</td>\n",
       "      <td>300.0</td>\n",
       "      <td>580</td>\n",
       "      <td>570641</td>\n",
       "      <td>94743</td>\n",
       "      <td>665384</td>\n",
       "      <td>60.9%</td>\n",
       "      <td>64.9</td>\n",
       "      <td>48578.5</td>\n",
       "    </tr>\n",
       "    <tr>\n",
       "      <th>3</th>\n",
       "      <td>AK</td>\n",
       "      <td>1992</td>\n",
       "      <td>8</td>\n",
       "      <td>10.46</td>\n",
       "      <td>20.14</td>\n",
       "      <td>-33.0</td>\n",
       "      <td>267.0</td>\n",
       "      <td>580</td>\n",
       "      <td>570641</td>\n",
       "      <td>94743</td>\n",
       "      <td>665384</td>\n",
       "      <td>60.9%</td>\n",
       "      <td>64.9</td>\n",
       "      <td>3321.8</td>\n",
       "    </tr>\n",
       "    <tr>\n",
       "      <th>4</th>\n",
       "      <td>AK</td>\n",
       "      <td>1992</td>\n",
       "      <td>9</td>\n",
       "      <td>17.25</td>\n",
       "      <td>15.27</td>\n",
       "      <td>-61.0</td>\n",
       "      <td>183.0</td>\n",
       "      <td>580</td>\n",
       "      <td>570641</td>\n",
       "      <td>94743</td>\n",
       "      <td>665384</td>\n",
       "      <td>60.9%</td>\n",
       "      <td>64.9</td>\n",
       "      <td>35.8</td>\n",
       "    </tr>\n",
       "  </tbody>\n",
       "</table>\n",
       "</div>"
      ],
      "text/plain": [
       "  State  year  month   PRCP   EVAP  TMIN   TMAX  mean_elevation  \\\n",
       "0    AK  1992      5   5.36  44.17 -56.0  233.0             580   \n",
       "1    AK  1992      6  14.03  39.27 -17.0  322.0             580   \n",
       "2    AK  1992      7  16.78  30.91  28.0  300.0             580   \n",
       "3    AK  1992      8  10.46  20.14 -33.0  267.0             580   \n",
       "4    AK  1992      9  17.25  15.27 -61.0  183.0             580   \n",
       "\n",
       "   Land Area (sq mi)  Water Area (sq mi)  Total Area (sq mi)  \\\n",
       "0             570641               94743              665384   \n",
       "1             570641               94743              665384   \n",
       "2             570641               94743              665384   \n",
       "3             570641               94743              665384   \n",
       "4             570641               94743              665384   \n",
       "\n",
       "  Percentage of Federal Land  Urbanization Rate (%)  total_fire_size  \n",
       "0                      60.9%                   64.9           4309.5  \n",
       "1                      60.9%                   64.9          86460.6  \n",
       "2                      60.9%                   64.9          48578.5  \n",
       "3                      60.9%                   64.9           3321.8  \n",
       "4                      60.9%                   64.9             35.8  "
      ]
     },
     "execution_count": 20,
     "metadata": {},
     "output_type": "execute_result"
    }
   ],
   "source": [
    "# Merge weather_monthly and wildfire_size on State, month, and year\n",
    "merged_weather_wildfire = pd.merge(weather_monthly, wildfire_size, left_on=['State', 'month', 'year'], right_on=['STATE', 'month', 'year'])\n",
    "\n",
    "# Drop the STATE column\n",
    "merged_weather_wildfire.drop(columns=['STATE'], inplace=True)\n",
    "\n",
    "# Merge the result with the merged dataframe on State\n",
    "final_merged = pd.merge(merged_weather_wildfire, merged, left_on='State', right_on='State')\n",
    "\n",
    "# Reorder columns to have 'month' and 'year' at iloc 1 and 2\n",
    "cols = ['State', 'year', 'month'] + [col for col in final_merged.columns if col not in ['State', 'month', 'year', 'total_fire_size']] + ['total_fire_size']\n",
    "final_merged = final_merged[cols]\n",
    "\n",
    "final_merged.head()"
   ]
  },
  {
   "cell_type": "code",
   "execution_count": 21,
   "metadata": {},
   "outputs": [
    {
     "data": {
      "text/plain": [
       "(6583, 14)"
      ]
     },
     "execution_count": 21,
     "metadata": {},
     "output_type": "execute_result"
    }
   ],
   "source": [
    "final_merged.shape"
   ]
  },
  {
   "cell_type": "code",
   "execution_count": 22,
   "metadata": {},
   "outputs": [],
   "source": [
    "final_merged.to_csv('data/final_merged.csv', index=False)"
   ]
  },
  {
   "cell_type": "code",
   "execution_count": null,
   "metadata": {},
   "outputs": [],
   "source": []
  }
 ],
 "metadata": {
  "kernelspec": {
   "display_name": ".venv",
   "language": "python",
   "name": "python3"
  },
  "language_info": {
   "codemirror_mode": {
    "name": "ipython",
    "version": 3
   },
   "file_extension": ".py",
   "mimetype": "text/x-python",
   "name": "python",
   "nbconvert_exporter": "python",
   "pygments_lexer": "ipython3",
   "version": "3.10.14"
  }
 },
 "nbformat": 4,
 "nbformat_minor": 2
}
