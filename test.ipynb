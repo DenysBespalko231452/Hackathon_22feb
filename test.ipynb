{
 "cells": [
  {
   "cell_type": "code",
   "execution_count": 1,
   "metadata": {},
   "outputs": [],
   "source": [
    "import numpy as np # linear algebra\n",
    "import pandas as pd # data processing, CSV file I/O (e.g. pd.read_csv)\\\n",
    "import missingno as msno\n",
    "import matplotlib.pyplot as plt\n",
    "import datetime as dt"
   ]
  },
  {
   "cell_type": "code",
   "execution_count": 2,
   "metadata": {},
   "outputs": [],
   "source": [
    "merged = pd.read_csv('data/merged_state_data.csv')\n",
    "weather_monthly = pd.read_csv('data/weather_monthly_state_aggregates.csv')\n",
    "wildfire_size = pd.read_csv('data/wildfire_sizes_before_2010.csv')\n",
    "drought_data = pd.read_csv('data/drought.csv')\n",
    "\n",
    "weather_monthly['month'] = pd.to_datetime(weather_monthly['year_month']).dt.month\n",
    "weather_monthly['year'] = pd.to_datetime(weather_monthly['year_month']).dt.year\n",
    "weather_monthly.drop(columns=['year_month'], inplace=True)\n",
    "\n",
    "wildfire_size.rename(columns={'month': 'year_month', 'STATE': 'State'}, inplace=True)\n",
    "\n",
    "wildfire_size['month'] = pd.to_datetime(wildfire_size['year_month']).dt.month\n",
    "wildfire_size['year'] = pd.to_datetime(wildfire_size['year_month']).dt.year\n",
    "wildfire_size.drop(columns=['year_month'], inplace=True)\n",
    "\n",
    "drought_data.drop(columns=[\"MapDate\", \"ValidEnd\", 'StatisticFormatID'], inplace=True)\n",
    "drought_data.rename(columns={'StateAbbreviation': 'State'}, inplace=True)\n",
    "drought_data['month'] = pd.to_datetime(drought_data['ValidStart']).dt.month\n",
    "drought_data['year'] = pd.to_datetime(drought_data['ValidStart']).dt.year\n",
    "drought_data.drop(columns=['ValidStart'], inplace=True)\n",
    "drought_data = drought_data.groupby(['State', 'year', 'month']).mean().reset_index()"
   ]
  },
  {
   "cell_type": "markdown",
   "metadata": {},
   "source": [
    "# Concatenation"
   ]
  },
  {
   "cell_type": "code",
   "execution_count": 3,
   "metadata": {},
   "outputs": [
    {
     "data": {
      "application/vnd.microsoft.datawrangler.viewer.v0+json": {
       "columns": [
        {
         "name": "index",
         "rawType": "int64",
         "type": "integer"
        },
        {
         "name": "State",
         "rawType": "object",
         "type": "string"
        },
        {
         "name": "year",
         "rawType": "int32",
         "type": "integer"
        },
        {
         "name": "month",
         "rawType": "int32",
         "type": "integer"
        },
        {
         "name": "PRCP",
         "rawType": "float64",
         "type": "float"
        },
        {
         "name": "EVAP",
         "rawType": "float64",
         "type": "float"
        },
        {
         "name": "TMIN",
         "rawType": "float64",
         "type": "float"
        },
        {
         "name": "TMAX",
         "rawType": "float64",
         "type": "float"
        },
        {
         "name": "mean_elevation",
         "rawType": "int64",
         "type": "integer"
        },
        {
         "name": "Land Area (sq mi)",
         "rawType": "int64",
         "type": "integer"
        },
        {
         "name": "Water Area (sq mi)",
         "rawType": "int64",
         "type": "integer"
        },
        {
         "name": "Total Area (sq mi)",
         "rawType": "int64",
         "type": "integer"
        },
        {
         "name": "Percentage of Federal Land",
         "rawType": "float64",
         "type": "float"
        },
        {
         "name": "Urbanization Rate (%)",
         "rawType": "float64",
         "type": "float"
        },
        {
         "name": "None",
         "rawType": "float64",
         "type": "float"
        },
        {
         "name": "D0",
         "rawType": "float64",
         "type": "float"
        },
        {
         "name": "D1",
         "rawType": "float64",
         "type": "float"
        },
        {
         "name": "D2",
         "rawType": "float64",
         "type": "float"
        },
        {
         "name": "D3",
         "rawType": "float64",
         "type": "float"
        },
        {
         "name": "D4",
         "rawType": "float64",
         "type": "float"
        },
        {
         "name": "total_fire_size",
         "rawType": "float64",
         "type": "float"
        }
       ],
       "conversionMethod": "pd.DataFrame",
       "ref": "4ff69fcd-1551-40b0-992f-9ec3e4836419",
       "rows": [
        [
         "0",
         "AK",
         "1992",
         "4",
         null,
         null,
         null,
         null,
         "580",
         "570641",
         "94743",
         "665384",
         "0.609",
         "64.9",
         null,
         null,
         null,
         null,
         null,
         null,
         "10.1"
        ],
        [
         "1",
         "AK",
         "1992",
         "5",
         "5.36",
         "44.17",
         "-56.0",
         "233.0",
         "580",
         "570641",
         "94743",
         "665384",
         "0.609",
         "64.9",
         null,
         null,
         null,
         null,
         null,
         null,
         "4309.5"
        ],
        [
         "2",
         "AK",
         "1992",
         "6",
         "14.03",
         "39.27",
         "-17.0",
         "322.0",
         "580",
         "570641",
         "94743",
         "665384",
         "0.609",
         "64.9",
         null,
         null,
         null,
         null,
         null,
         null,
         "86460.6"
        ],
        [
         "3",
         "AK",
         "1992",
         "7",
         "16.78",
         "30.91",
         "28.0",
         "300.0",
         "580",
         "570641",
         "94743",
         "665384",
         "0.609",
         "64.9",
         null,
         null,
         null,
         null,
         null,
         null,
         "48578.5"
        ],
        [
         "4",
         "AK",
         "1992",
         "8",
         "10.46",
         "20.14",
         "-33.0",
         "267.0",
         "580",
         "570641",
         "94743",
         "665384",
         "0.609",
         "64.9",
         null,
         null,
         null,
         null,
         null,
         null,
         "3321.8"
        ]
       ],
       "shape": {
        "columns": 20,
        "rows": 5
       }
      },
      "text/html": [
       "<div>\n",
       "<style scoped>\n",
       "    .dataframe tbody tr th:only-of-type {\n",
       "        vertical-align: middle;\n",
       "    }\n",
       "\n",
       "    .dataframe tbody tr th {\n",
       "        vertical-align: top;\n",
       "    }\n",
       "\n",
       "    .dataframe thead th {\n",
       "        text-align: right;\n",
       "    }\n",
       "</style>\n",
       "<table border=\"1\" class=\"dataframe\">\n",
       "  <thead>\n",
       "    <tr style=\"text-align: right;\">\n",
       "      <th></th>\n",
       "      <th>State</th>\n",
       "      <th>year</th>\n",
       "      <th>month</th>\n",
       "      <th>PRCP</th>\n",
       "      <th>EVAP</th>\n",
       "      <th>TMIN</th>\n",
       "      <th>TMAX</th>\n",
       "      <th>mean_elevation</th>\n",
       "      <th>Land Area (sq mi)</th>\n",
       "      <th>Water Area (sq mi)</th>\n",
       "      <th>Total Area (sq mi)</th>\n",
       "      <th>Percentage of Federal Land</th>\n",
       "      <th>Urbanization Rate (%)</th>\n",
       "      <th>None</th>\n",
       "      <th>D0</th>\n",
       "      <th>D1</th>\n",
       "      <th>D2</th>\n",
       "      <th>D3</th>\n",
       "      <th>D4</th>\n",
       "      <th>total_fire_size</th>\n",
       "    </tr>\n",
       "  </thead>\n",
       "  <tbody>\n",
       "    <tr>\n",
       "      <th>0</th>\n",
       "      <td>AK</td>\n",
       "      <td>1992</td>\n",
       "      <td>4</td>\n",
       "      <td>NaN</td>\n",
       "      <td>NaN</td>\n",
       "      <td>NaN</td>\n",
       "      <td>NaN</td>\n",
       "      <td>580</td>\n",
       "      <td>570641</td>\n",
       "      <td>94743</td>\n",
       "      <td>665384</td>\n",
       "      <td>0.609</td>\n",
       "      <td>64.9</td>\n",
       "      <td>NaN</td>\n",
       "      <td>NaN</td>\n",
       "      <td>NaN</td>\n",
       "      <td>NaN</td>\n",
       "      <td>NaN</td>\n",
       "      <td>NaN</td>\n",
       "      <td>10.1</td>\n",
       "    </tr>\n",
       "    <tr>\n",
       "      <th>1</th>\n",
       "      <td>AK</td>\n",
       "      <td>1992</td>\n",
       "      <td>5</td>\n",
       "      <td>5.36</td>\n",
       "      <td>44.17</td>\n",
       "      <td>-56.0</td>\n",
       "      <td>233.0</td>\n",
       "      <td>580</td>\n",
       "      <td>570641</td>\n",
       "      <td>94743</td>\n",
       "      <td>665384</td>\n",
       "      <td>0.609</td>\n",
       "      <td>64.9</td>\n",
       "      <td>NaN</td>\n",
       "      <td>NaN</td>\n",
       "      <td>NaN</td>\n",
       "      <td>NaN</td>\n",
       "      <td>NaN</td>\n",
       "      <td>NaN</td>\n",
       "      <td>4309.5</td>\n",
       "    </tr>\n",
       "    <tr>\n",
       "      <th>2</th>\n",
       "      <td>AK</td>\n",
       "      <td>1992</td>\n",
       "      <td>6</td>\n",
       "      <td>14.03</td>\n",
       "      <td>39.27</td>\n",
       "      <td>-17.0</td>\n",
       "      <td>322.0</td>\n",
       "      <td>580</td>\n",
       "      <td>570641</td>\n",
       "      <td>94743</td>\n",
       "      <td>665384</td>\n",
       "      <td>0.609</td>\n",
       "      <td>64.9</td>\n",
       "      <td>NaN</td>\n",
       "      <td>NaN</td>\n",
       "      <td>NaN</td>\n",
       "      <td>NaN</td>\n",
       "      <td>NaN</td>\n",
       "      <td>NaN</td>\n",
       "      <td>86460.6</td>\n",
       "    </tr>\n",
       "    <tr>\n",
       "      <th>3</th>\n",
       "      <td>AK</td>\n",
       "      <td>1992</td>\n",
       "      <td>7</td>\n",
       "      <td>16.78</td>\n",
       "      <td>30.91</td>\n",
       "      <td>28.0</td>\n",
       "      <td>300.0</td>\n",
       "      <td>580</td>\n",
       "      <td>570641</td>\n",
       "      <td>94743</td>\n",
       "      <td>665384</td>\n",
       "      <td>0.609</td>\n",
       "      <td>64.9</td>\n",
       "      <td>NaN</td>\n",
       "      <td>NaN</td>\n",
       "      <td>NaN</td>\n",
       "      <td>NaN</td>\n",
       "      <td>NaN</td>\n",
       "      <td>NaN</td>\n",
       "      <td>48578.5</td>\n",
       "    </tr>\n",
       "    <tr>\n",
       "      <th>4</th>\n",
       "      <td>AK</td>\n",
       "      <td>1992</td>\n",
       "      <td>8</td>\n",
       "      <td>10.46</td>\n",
       "      <td>20.14</td>\n",
       "      <td>-33.0</td>\n",
       "      <td>267.0</td>\n",
       "      <td>580</td>\n",
       "      <td>570641</td>\n",
       "      <td>94743</td>\n",
       "      <td>665384</td>\n",
       "      <td>0.609</td>\n",
       "      <td>64.9</td>\n",
       "      <td>NaN</td>\n",
       "      <td>NaN</td>\n",
       "      <td>NaN</td>\n",
       "      <td>NaN</td>\n",
       "      <td>NaN</td>\n",
       "      <td>NaN</td>\n",
       "      <td>3321.8</td>\n",
       "    </tr>\n",
       "  </tbody>\n",
       "</table>\n",
       "</div>"
      ],
      "text/plain": [
       "  State  year  month   PRCP   EVAP  TMIN   TMAX  mean_elevation  \\\n",
       "0    AK  1992      4    NaN    NaN   NaN    NaN             580   \n",
       "1    AK  1992      5   5.36  44.17 -56.0  233.0             580   \n",
       "2    AK  1992      6  14.03  39.27 -17.0  322.0             580   \n",
       "3    AK  1992      7  16.78  30.91  28.0  300.0             580   \n",
       "4    AK  1992      8  10.46  20.14 -33.0  267.0             580   \n",
       "\n",
       "   Land Area (sq mi)  Water Area (sq mi)  Total Area (sq mi)  \\\n",
       "0             570641               94743              665384   \n",
       "1             570641               94743              665384   \n",
       "2             570641               94743              665384   \n",
       "3             570641               94743              665384   \n",
       "4             570641               94743              665384   \n",
       "\n",
       "   Percentage of Federal Land  Urbanization Rate (%)  None  D0  D1  D2  D3  \\\n",
       "0                       0.609                   64.9   NaN NaN NaN NaN NaN   \n",
       "1                       0.609                   64.9   NaN NaN NaN NaN NaN   \n",
       "2                       0.609                   64.9   NaN NaN NaN NaN NaN   \n",
       "3                       0.609                   64.9   NaN NaN NaN NaN NaN   \n",
       "4                       0.609                   64.9   NaN NaN NaN NaN NaN   \n",
       "\n",
       "   D4  total_fire_size  \n",
       "0 NaN             10.1  \n",
       "1 NaN           4309.5  \n",
       "2 NaN          86460.6  \n",
       "3 NaN          48578.5  \n",
       "4 NaN           3321.8  "
      ]
     },
     "execution_count": 3,
     "metadata": {},
     "output_type": "execute_result"
    }
   ],
   "source": [
    "# Merge weather_monthly and wildfire_size on State, month, and year\n",
    "merged_weather_wildfire = pd.merge(weather_monthly, wildfire_size, on=['State', 'month', 'year'], how='right')\n",
    "\n",
    "# Merge the result with the merged dataframe on State\n",
    "final_merged = pd.merge(merged_weather_wildfire, merged, left_on='State', right_on='State')\n",
    "\n",
    "# Merge the result with the drought data on State, month, and year\n",
    "final_merged = pd.merge(final_merged, drought_data, on=['State', 'month', 'year'], how='left')\n",
    "\n",
    "# Reorder columns to have 'month' and 'year' at iloc 1 and 2\n",
    "cols = ['State', 'year', 'month'] + [col for col in final_merged.columns if col not in ['State', 'month', 'year', 'total_fire_size']] + ['total_fire_size']\n",
    "final_merged = final_merged[cols]\n",
    "\n",
    "# Percentage of Federal Land to number\n",
    "final_merged['Percentage of Federal Land'] = final_merged['Percentage of Federal Land'].str.rstrip('%').astype('float') / 100.0\n",
    "\n",
    "final_merged.head()"
   ]
  },
  {
   "cell_type": "code",
   "execution_count": 4,
   "metadata": {},
   "outputs": [
    {
     "data": {
      "text/plain": [
       "(9632, 8)"
      ]
     },
     "execution_count": 4,
     "metadata": {},
     "output_type": "execute_result"
    }
   ],
   "source": [
    "merged_weather_wildfire.shape"
   ]
  },
  {
   "cell_type": "code",
   "execution_count": 5,
   "metadata": {},
   "outputs": [
    {
     "data": {
      "text/plain": [
       "(9632, 20)"
      ]
     },
     "execution_count": 5,
     "metadata": {},
     "output_type": "execute_result"
    }
   ],
   "source": [
    "final_merged.shape"
   ]
  },
  {
   "cell_type": "code",
   "execution_count": 6,
   "metadata": {},
   "outputs": [
    {
     "data": {
      "text/plain": [
       "<Axes: >"
      ]
     },
     "execution_count": 6,
     "metadata": {},
     "output_type": "execute_result"
    },
    {
     "data": {
      "image/png": "[encoded data removed]",
      "text/plain": [
       "<Figure size 2500x1000 with 2 Axes>"
      ]
     },
     "metadata": {},
     "output_type": "display_data"
    }
   ],
   "source": [
    "msno.matrix(final_merged)"
   ]
  },
  {
   "cell_type": "code",
   "execution_count": null,
   "metadata": {},
   "outputs": [],
   "source": [
    "from sklearn.impute import KNNImputer\n",
    "imputer = KNNImputer(n_neighbors=3)\n",
    "final_merged[['PRCP', 'EVAP', 'TMIN', 'TMAX']] = imputer.fit_transform(final_merged[['PRCP', 'EVAP', 'TMIN', 'TMAX']])"
   ]
  },
  {
   "cell_type": "code",
   "execution_count": null,
   "metadata": {},
   "outputs": [
    {
     "data": {
      "application/vnd.microsoft.datawrangler.viewer.v0+json": {
       "columns": [
        {
         "name": "index",
         "rawType": "int64",
         "type": "integer"
        },
        {
         "name": "State",
         "rawType": "object",
         "type": "string"
        },
        {
         "name": "year",
         "rawType": "int32",
         "type": "integer"
        },
        {
         "name": "month",
         "rawType": "int32",
         "type": "integer"
        },
        {
         "name": "PRCP",
         "rawType": "float64",
         "type": "float"
        },
        {
         "name": "EVAP",
         "rawType": "float64",
         "type": "float"
        },
        {
         "name": "TMIN",
         "rawType": "float64",
         "type": "float"
        },
        {
         "name": "TMAX",
         "rawType": "float64",
         "type": "float"
        },
        {
         "name": "mean_elevation",
         "rawType": "int64",
         "type": "integer"
        },
        {
         "name": "Land Area (sq mi)",
         "rawType": "int64",
         "type": "integer"
        },
        {
         "name": "Water Area (sq mi)",
         "rawType": "int64",
         "type": "integer"
        },
        {
         "name": "Total Area (sq mi)",
         "rawType": "int64",
         "type": "integer"
        },
        {
         "name": "Percentage of Federal Land",
         "rawType": "float64",
         "type": "float"
        },
        {
         "name": "Urbanization Rate (%)",
         "rawType": "float64",
         "type": "float"
        },
        {
         "name": "total_fire_size",
         "rawType": "float64",
         "type": "float"
        }
       ],
       "conversionMethod": "pd.DataFrame",
       "ref": "f5184b69-cf4a-4e22-9b4a-fde77f29856c",
       "rows": [
        [
         "0",
         "AK",
         "1992",
         "4",
         "21.221558559927082",
         "50.93134133373842",
         "10.677198845511166",
         "328.0469390855233",
         "580",
         "570641",
         "94743",
         "665384",
         "0.609",
         "64.9",
         "10.1"
        ],
        [
         "1",
         "AK",
         "1992",
         "5",
         "5.36",
         "44.17",
         "-56.0",
         "233.0",
         "580",
         "570641",
         "94743",
         "665384",
         "0.609",
         "64.9",
         "4309.5"
        ],
        [
         "2",
         "AK",
         "1992",
         "6",
         "14.03",
         "39.27",
         "-17.0",
         "322.0",
         "580",
         "570641",
         "94743",
         "665384",
         "0.609",
         "64.9",
         "86460.6"
        ],
        [
         "3",
         "AK",
         "1992",
         "7",
         "16.78",
         "30.91",
         "28.0",
         "300.0",
         "580",
         "570641",
         "94743",
         "665384",
         "0.609",
         "64.9",
         "48578.5"
        ],
        [
         "4",
         "AK",
         "1992",
         "8",
         "10.46",
         "20.14",
         "-33.0",
         "267.0",
         "580",
         "570641",
         "94743",
         "665384",
         "0.609",
         "64.9",
         "3321.8"
        ]
       ],
       "shape": {
        "columns": 14,
        "rows": 5
       }
      },
      "text/html": [
       "<div>\n",
       "<style scoped>\n",
       "    .dataframe tbody tr th:only-of-type {\n",
       "        vertical-align: middle;\n",
       "    }\n",
       "\n",
       "    .dataframe tbody tr th {\n",
       "        vertical-align: top;\n",
       "    }\n",
       "\n",
       "    .dataframe thead th {\n",
       "        text-align: right;\n",
       "    }\n",
       "</style>\n",
       "<table border=\"1\" class=\"dataframe\">\n",
       "  <thead>\n",
       "    <tr style=\"text-align: right;\">\n",
       "      <th></th>\n",
       "      <th>State</th>\n",
       "      <th>year</th>\n",
       "      <th>month</th>\n",
       "      <th>PRCP</th>\n",
       "      <th>EVAP</th>\n",
       "      <th>TMIN</th>\n",
       "      <th>TMAX</th>\n",
       "      <th>mean_elevation</th>\n",
       "      <th>Land Area (sq mi)</th>\n",
       "      <th>Water Area (sq mi)</th>\n",
       "      <th>Total Area (sq mi)</th>\n",
       "      <th>Percentage of Federal Land</th>\n",
       "      <th>Urbanization Rate (%)</th>\n",
       "      <th>total_fire_size</th>\n",
       "    </tr>\n",
       "  </thead>\n",
       "  <tbody>\n",
       "    <tr>\n",
       "      <th>0</th>\n",
       "      <td>AK</td>\n",
       "      <td>1992</td>\n",
       "      <td>4</td>\n",
       "      <td>21.221559</td>\n",
       "      <td>50.931341</td>\n",
       "      <td>10.677199</td>\n",
       "      <td>328.046939</td>\n",
       "      <td>580</td>\n",
       "      <td>570641</td>\n",
       "      <td>94743</td>\n",
       "      <td>665384</td>\n",
       "      <td>0.609</td>\n",
       "      <td>64.9</td>\n",
       "      <td>10.1</td>\n",
       "    </tr>\n",
       "    <tr>\n",
       "      <th>1</th>\n",
       "      <td>AK</td>\n",
       "      <td>1992</td>\n",
       "      <td>5</td>\n",
       "      <td>5.360000</td>\n",
       "      <td>44.170000</td>\n",
       "      <td>-56.000000</td>\n",
       "      <td>233.000000</td>\n",
       "      <td>580</td>\n",
       "      <td>570641</td>\n",
       "      <td>94743</td>\n",
       "      <td>665384</td>\n",
       "      <td>0.609</td>\n",
       "      <td>64.9</td>\n",
       "      <td>4309.5</td>\n",
       "    </tr>\n",
       "    <tr>\n",
       "      <th>2</th>\n",
       "      <td>AK</td>\n",
       "      <td>1992</td>\n",
       "      <td>6</td>\n",
       "      <td>14.030000</td>\n",
       "      <td>39.270000</td>\n",
       "      <td>-17.000000</td>\n",
       "      <td>322.000000</td>\n",
       "      <td>580</td>\n",
       "      <td>570641</td>\n",
       "      <td>94743</td>\n",
       "      <td>665384</td>\n",
       "      <td>0.609</td>\n",
       "      <td>64.9</td>\n",
       "      <td>86460.6</td>\n",
       "    </tr>\n",
       "    <tr>\n",
       "      <th>3</th>\n",
       "      <td>AK</td>\n",
       "      <td>1992</td>\n",
       "      <td>7</td>\n",
       "      <td>16.780000</td>\n",
       "      <td>30.910000</td>\n",
       "      <td>28.000000</td>\n",
       "      <td>300.000000</td>\n",
       "      <td>580</td>\n",
       "      <td>570641</td>\n",
       "      <td>94743</td>\n",
       "      <td>665384</td>\n",
       "      <td>0.609</td>\n",
       "      <td>64.9</td>\n",
       "      <td>48578.5</td>\n",
       "    </tr>\n",
       "    <tr>\n",
       "      <th>4</th>\n",
       "      <td>AK</td>\n",
       "      <td>1992</td>\n",
       "      <td>8</td>\n",
       "      <td>10.460000</td>\n",
       "      <td>20.140000</td>\n",
       "      <td>-33.000000</td>\n",
       "      <td>267.000000</td>\n",
       "      <td>580</td>\n",
       "      <td>570641</td>\n",
       "      <td>94743</td>\n",
       "      <td>665384</td>\n",
       "      <td>0.609</td>\n",
       "      <td>64.9</td>\n",
       "      <td>3321.8</td>\n",
       "    </tr>\n",
       "  </tbody>\n",
       "</table>\n",
       "</div>"
      ],
      "text/plain": [
       "  State  year  month       PRCP       EVAP       TMIN        TMAX  \\\n",
       "0    AK  1992      4  21.221559  50.931341  10.677199  328.046939   \n",
       "1    AK  1992      5   5.360000  44.170000 -56.000000  233.000000   \n",
       "2    AK  1992      6  14.030000  39.270000 -17.000000  322.000000   \n",
       "3    AK  1992      7  16.780000  30.910000  28.000000  300.000000   \n",
       "4    AK  1992      8  10.460000  20.140000 -33.000000  267.000000   \n",
       "\n",
       "   mean_elevation  Land Area (sq mi)  Water Area (sq mi)  Total Area (sq mi)  \\\n",
       "0             580             570641               94743              665384   \n",
       "1             580             570641               94743              665384   \n",
       "2             580             570641               94743              665384   \n",
       "3             580             570641               94743              665384   \n",
       "4             580             570641               94743              665384   \n",
       "\n",
       "   Percentage of Federal Land  Urbanization Rate (%)  total_fire_size  \n",
       "0                       0.609                   64.9             10.1  \n",
       "1                       0.609                   64.9           4309.5  \n",
       "2                       0.609                   64.9          86460.6  \n",
       "3                       0.609                   64.9          48578.5  \n",
       "4                       0.609                   64.9           3321.8  "
      ]
     },
     "execution_count": 10,
     "metadata": {},
     "output_type": "execute_result"
    }
   ],
   "source": [
    "final_merged.head()"
   ]
  },
  {
   "cell_type": "code",
   "execution_count": null,
   "metadata": {},
   "outputs": [
    {
     "data": {
      "text/plain": [
       "(9632, 14)"
      ]
     },
     "execution_count": 9,
     "metadata": {},
     "output_type": "execute_result"
    }
   ],
   "source": [
    "final_merged.shape"
   ]
  },
  {
   "cell_type": "code",
   "execution_count": null,
   "metadata": {},
   "outputs": [
    {
     "data": {
      "text/plain": [
       "(1992, 2010)"
      ]
     },
     "execution_count": 12,
     "metadata": {},
     "output_type": "execute_result"
    }
   ],
   "source": [
    "final_merged['year'].min(), final_merged['year'].max()"
   ]
  },
  {
   "cell_type": "markdown",
   "metadata": {},
   "source": [
    "# Preparations of final merged"
   ]
  },
  {
   "cell_type": "code",
   "execution_count": null,
   "metadata": {},
   "outputs": [],
   "source": [
    "final_merged.to_csv('data/data_processed_simple.csv', index=False)"
   ]
  },
  {
   "cell_type": "markdown",
   "metadata": {},
   "source": [
    "# Submission data\n"
   ]
  },
  {
   "cell_type": "code",
   "execution_count": null,
   "metadata": {},
   "outputs": [
    {
     "data": {
      "application/vnd.microsoft.datawrangler.viewer.v0+json": {
       "columns": [
        {
         "name": "index",
         "rawType": "int64",
         "type": "integer"
        },
        {
         "name": "ID",
         "rawType": "int64",
         "type": "integer"
        },
        {
         "name": "State",
         "rawType": "object",
         "type": "string"
        },
        {
         "name": "year_month",
         "rawType": "object",
         "type": "string"
        },
        {
         "name": "total_fire_size",
         "rawType": "int64",
         "type": "integer"
        }
       ],
       "conversionMethod": "pd.DataFrame",
       "ref": "b7b60ccb-13f2-4c40-8d3f-b2b3435ee16b",
       "rows": [
        [
         "0",
         "0",
         "AK",
         "2011-01",
         "0"
        ],
        [
         "1",
         "1",
         "AK",
         "2011-02",
         "0"
        ],
        [
         "2",
         "2",
         "AK",
         "2011-03",
         "0"
        ],
        [
         "3",
         "3",
         "AK",
         "2011-04",
         "0"
        ],
        [
         "4",
         "4",
         "AK",
         "2011-05",
         "0"
        ]
       ],
       "shape": {
        "columns": 4,
        "rows": 5
       }
      },
      "text/html": [
       "<div>\n",
       "<style scoped>\n",
       "    .dataframe tbody tr th:only-of-type {\n",
       "        vertical-align: middle;\n",
       "    }\n",
       "\n",
       "    .dataframe tbody tr th {\n",
       "        vertical-align: top;\n",
       "    }\n",
       "\n",
       "    .dataframe thead th {\n",
       "        text-align: right;\n",
       "    }\n",
       "</style>\n",
       "<table border=\"1\" class=\"dataframe\">\n",
       "  <thead>\n",
       "    <tr style=\"text-align: right;\">\n",
       "      <th></th>\n",
       "      <th>ID</th>\n",
       "      <th>State</th>\n",
       "      <th>year_month</th>\n",
       "      <th>total_fire_size</th>\n",
       "    </tr>\n",
       "  </thead>\n",
       "  <tbody>\n",
       "    <tr>\n",
       "      <th>0</th>\n",
       "      <td>0</td>\n",
       "      <td>AK</td>\n",
       "      <td>2011-01</td>\n",
       "      <td>0</td>\n",
       "    </tr>\n",
       "    <tr>\n",
       "      <th>1</th>\n",
       "      <td>1</td>\n",
       "      <td>AK</td>\n",
       "      <td>2011-02</td>\n",
       "      <td>0</td>\n",
       "    </tr>\n",
       "    <tr>\n",
       "      <th>2</th>\n",
       "      <td>2</td>\n",
       "      <td>AK</td>\n",
       "      <td>2011-03</td>\n",
       "      <td>0</td>\n",
       "    </tr>\n",
       "    <tr>\n",
       "      <th>3</th>\n",
       "      <td>3</td>\n",
       "      <td>AK</td>\n",
       "      <td>2011-04</td>\n",
       "      <td>0</td>\n",
       "    </tr>\n",
       "    <tr>\n",
       "      <th>4</th>\n",
       "      <td>4</td>\n",
       "      <td>AK</td>\n",
       "      <td>2011-05</td>\n",
       "      <td>0</td>\n",
       "    </tr>\n",
       "  </tbody>\n",
       "</table>\n",
       "</div>"
      ],
      "text/plain": [
       "   ID State year_month  total_fire_size\n",
       "0   0    AK    2011-01                0\n",
       "1   1    AK    2011-02                0\n",
       "2   2    AK    2011-03                0\n",
       "3   3    AK    2011-04                0\n",
       "4   4    AK    2011-05                0"
      ]
     },
     "execution_count": 12,
     "metadata": {},
     "output_type": "execute_result"
    }
   ],
   "source": [
    "final_file = pd.read_csv('data/zero_submission.csv')\n",
    "final_file.rename(columns={'month': 'year_month', 'STATE': 'State'}, inplace=True)\n",
    "final_file.head()"
   ]
  },
  {
   "cell_type": "code",
   "execution_count": null,
   "metadata": {},
   "outputs": [
    {
     "data": {
      "application/vnd.microsoft.datawrangler.viewer.v0+json": {
       "columns": [
        {
         "name": "index",
         "rawType": "int64",
         "type": "integer"
        },
        {
         "name": "ID",
         "rawType": "int64",
         "type": "integer"
        },
        {
         "name": "State",
         "rawType": "object",
         "type": "string"
        },
        {
         "name": "total_fire_size",
         "rawType": "int64",
         "type": "integer"
        },
        {
         "name": "month",
         "rawType": "int32",
         "type": "integer"
        },
        {
         "name": "year",
         "rawType": "int32",
         "type": "integer"
        }
       ],
       "conversionMethod": "pd.DataFrame",
       "ref": "81a0c7d2-a4e4-4498-8f94-78c0ecec048e",
       "rows": [
        [
         "0",
         "0",
         "AK",
         "0",
         "1",
         "2011"
        ],
        [
         "1",
         "1",
         "AK",
         "0",
         "2",
         "2011"
        ],
        [
         "2",
         "2",
         "AK",
         "0",
         "3",
         "2011"
        ],
        [
         "3",
         "3",
         "AK",
         "0",
         "4",
         "2011"
        ],
        [
         "4",
         "4",
         "AK",
         "0",
         "5",
         "2011"
        ]
       ],
       "shape": {
        "columns": 5,
        "rows": 5
       }
      },
      "text/html": [
       "<div>\n",
       "<style scoped>\n",
       "    .dataframe tbody tr th:only-of-type {\n",
       "        vertical-align: middle;\n",
       "    }\n",
       "\n",
       "    .dataframe tbody tr th {\n",
       "        vertical-align: top;\n",
       "    }\n",
       "\n",
       "    .dataframe thead th {\n",
       "        text-align: right;\n",
       "    }\n",
       "</style>\n",
       "<table border=\"1\" class=\"dataframe\">\n",
       "  <thead>\n",
       "    <tr style=\"text-align: right;\">\n",
       "      <th></th>\n",
       "      <th>ID</th>\n",
       "      <th>State</th>\n",
       "      <th>total_fire_size</th>\n",
       "      <th>month</th>\n",
       "      <th>year</th>\n",
       "    </tr>\n",
       "  </thead>\n",
       "  <tbody>\n",
       "    <tr>\n",
       "      <th>0</th>\n",
       "      <td>0</td>\n",
       "      <td>AK</td>\n",
       "      <td>0</td>\n",
       "      <td>1</td>\n",
       "      <td>2011</td>\n",
       "    </tr>\n",
       "    <tr>\n",
       "      <th>1</th>\n",
       "      <td>1</td>\n",
       "      <td>AK</td>\n",
       "      <td>0</td>\n",
       "      <td>2</td>\n",
       "      <td>2011</td>\n",
       "    </tr>\n",
       "    <tr>\n",
       "      <th>2</th>\n",
       "      <td>2</td>\n",
       "      <td>AK</td>\n",
       "      <td>0</td>\n",
       "      <td>3</td>\n",
       "      <td>2011</td>\n",
       "    </tr>\n",
       "    <tr>\n",
       "      <th>3</th>\n",
       "      <td>3</td>\n",
       "      <td>AK</td>\n",
       "      <td>0</td>\n",
       "      <td>4</td>\n",
       "      <td>2011</td>\n",
       "    </tr>\n",
       "    <tr>\n",
       "      <th>4</th>\n",
       "      <td>4</td>\n",
       "      <td>AK</td>\n",
       "      <td>0</td>\n",
       "      <td>5</td>\n",
       "      <td>2011</td>\n",
       "    </tr>\n",
       "  </tbody>\n",
       "</table>\n",
       "</div>"
      ],
      "text/plain": [
       "   ID State  total_fire_size  month  year\n",
       "0   0    AK                0      1  2011\n",
       "1   1    AK                0      2  2011\n",
       "2   2    AK                0      3  2011\n",
       "3   3    AK                0      4  2011\n",
       "4   4    AK                0      5  2011"
      ]
     },
     "execution_count": 13,
     "metadata": {},
     "output_type": "execute_result"
    }
   ],
   "source": [
    "final_file['month'] = pd.to_datetime(final_file['year_month']).dt.month\n",
    "final_file['year'] = pd.to_datetime(final_file['year_month']).dt.year\n",
    "final_file.drop(columns=['year_month'], inplace=True)\n",
    "final_file.head(5)"
   ]
  },
  {
   "cell_type": "code",
   "execution_count": null,
   "metadata": {},
   "outputs": [
    {
     "data": {
      "text/plain": [
       "{'AK', 'HI'}"
      ]
     },
     "execution_count": 14,
     "metadata": {},
     "output_type": "execute_result"
    }
   ],
   "source": [
    "extra_uniq = extra_data['State'].unique()\n",
    "final_uniq = final_file['State'].unique()\n",
    "\n",
    "missing_states = set(final_uniq) - set(extra_uniq)\n",
    "missing_states"
   ]
  },
  {
   "cell_type": "code",
   "execution_count": null,
   "metadata": {},
   "outputs": [
    {
     "data": {
      "text/plain": [
       "(3000, 21)"
      ]
     },
     "execution_count": 15,
     "metadata": {},
     "output_type": "execute_result"
    }
   ],
   "source": [
    "from sklearn.impute import KNNImputer\n",
    "\n",
    "# Merge final_file and merged\n",
    "final_merged = pd.merge(final_file, merged, on=['State'])\n",
    "\n",
    "final_merged = pd.merge(final_merged, weather_monthly, on=['State', 'year', 'month'], how='outer')\n",
    "\n",
    "\n",
    "imputer = KNNImputer(n_neighbors=3)\n",
    "final_merged[['PRCP', 'EVAP', 'TMIN', 'TMAX']] = imputer.fit_transform(final_merged[['PRCP', 'EVAP', 'TMIN', 'TMAX']])\n",
    "\n",
    "# Percentage of Federal Land to number\n",
    "final_merged['Percentage of Federal Land'] = final_merged['Percentage of Federal Land'].str.rstrip('%').astype('float') / 100.0\n",
    "\n",
    "final_merged_2011_2015 = final_merged[(final_merged['year'] >= 2011) & (final_merged['year'] <= 2015)]\n",
    "final_merged_2011_2015\n",
    "\n",
    "final_merged_2011_2015.shape"
   ]
  },
  {
   "cell_type": "code",
   "execution_count": null,
   "metadata": {},
   "outputs": [
    {
     "data": {
      "text/plain": [
       "(3000, 21)"
      ]
     },
     "execution_count": 16,
     "metadata": {},
     "output_type": "execute_result"
    }
   ],
   "source": [
    "final_merged_2011_2015.shape"
   ]
  },
  {
   "cell_type": "code",
   "execution_count": null,
   "metadata": {},
   "outputs": [
    {
     "data": {
      "application/vnd.microsoft.datawrangler.viewer.v0+json": {
       "columns": [
        {
         "name": "index",
         "rawType": "object",
         "type": "string"
        },
        {
         "name": "ID",
         "rawType": "float64",
         "type": "float"
        },
        {
         "name": "total_fire_size",
         "rawType": "float64",
         "type": "float"
        },
        {
         "name": "month",
         "rawType": "float64",
         "type": "float"
        },
        {
         "name": "year",
         "rawType": "float64",
         "type": "float"
        },
        {
         "name": "mean_elevation",
         "rawType": "float64",
         "type": "float"
        },
        {
         "name": "Land Area (sq mi)",
         "rawType": "float64",
         "type": "float"
        },
        {
         "name": "Water Area (sq mi)",
         "rawType": "float64",
         "type": "float"
        },
        {
         "name": "Total Area (sq mi)",
         "rawType": "float64",
         "type": "float"
        },
        {
         "name": "Percentage of Federal Land",
         "rawType": "float64",
         "type": "float"
        },
        {
         "name": "Urbanization Rate (%)",
         "rawType": "float64",
         "type": "float"
        },
        {
         "name": "PRCP",
         "rawType": "float64",
         "type": "float"
        },
        {
         "name": "EVAP",
         "rawType": "float64",
         "type": "float"
        },
        {
         "name": "TMIN",
         "rawType": "float64",
         "type": "float"
        },
        {
         "name": "TMAX",
         "rawType": "float64",
         "type": "float"
        },
        {
         "name": "t2m",
         "rawType": "float64",
         "type": "float"
        },
        {
         "name": "d2m",
         "rawType": "float64",
         "type": "float"
        },
        {
         "name": "u10",
         "rawType": "float64",
         "type": "float"
        },
        {
         "name": "v10",
         "rawType": "float64",
         "type": "float"
        },
        {
         "name": "lai_hv",
         "rawType": "float64",
         "type": "float"
        },
        {
         "name": "lai_lv",
         "rawType": "float64",
         "type": "float"
        }
       ],
       "conversionMethod": "pd.DataFrame",
       "ref": "c8cd3b19-2b13-46c6-ac0e-1fc83491b87e",
       "rows": [
        [
         "count",
         "3000.0",
         "3000.0",
         "3000.0",
         "3000.0",
         "3000.0",
         "3000.0",
         "3000.0",
         "3000.0",
         "3000.0",
         "3000.0",
         "3000.0",
         "3000.0",
         "3000.0",
         "3000.0",
         "3000.0",
         "3000.0",
         "3000.0",
         "3000.0",
         "3000.0",
         "3000.0"
        ],
        [
         "mean",
         "1499.5",
         "0.0",
         "6.5",
         "2013.0",
         "518.06",
         "70636.92",
         "5296.68",
         "75933.52",
         "0.15256000000000003",
         "72.458",
         "22.94051789978769",
         "62.851902495682936",
         "-15.651331295116776",
         "280.66913279547066",
         "285.16765041629196",
         "277.9706387329571",
         "0.5073759400970311",
         "0.28897441440783406",
         "2.312422982981885",
         "1.277839939391035"
        ],
        [
         "std",
         "866.1697293256098",
         "0.0",
         "3.452628015498407",
         "1.4144493235754285",
         "521.4270467876664",
         "84967.35521558291",
         "14115.137802704225",
         "96365.28054979873",
         "0.20218563931260813",
         "14.170397644025257",
         "18.748660859588206",
         "120.25134260764949",
         "101.93631103790052",
         "97.82318132486068",
         "10.06574128533276",
         "9.600977497995856",
         "0.6720051341606614",
         "0.6223571271473892",
         "1.1364255612865932",
         "0.6494922442277958"
        ],
        [
         "min",
         "0.0",
         "0.0",
         "1.0",
         "2011.0",
         "20.0",
         "1034.0",
         "192.0",
         "1545.0",
         "0.003",
         "35.1",
         "0.0",
         "-96.87",
         "-333.0",
         "-83.0",
         "256.9528",
         "253.37444",
         "-1.7389934",
         "-1.7354532",
         "0.54993284",
         "0.045525316"
        ],
        [
         "25%",
         "749.75",
         "0.0",
         "3.75",
         "2012.0",
         "180.0",
         "35826.0",
         "701.0",
         "36420.0",
         "0.019",
         "63.2",
         "8.8475",
         "16.0625",
         "-72.0",
         "222.33333333333334",
         "277.44866",
         "270.39015",
         "0.0917149275",
         "-0.07880003000000001",
         "1.4959004",
         "0.8417553"
        ],
        [
         "50%",
         "1499.5",
         "0.0",
         "6.5",
         "2013.0",
         "300.0",
         "53891.5",
         "1501.5",
         "57093.5",
         "0.052",
         "72.1",
         "20.259999999999998",
         "40.76",
         "-17.0",
         "305.83333333333337",
         "286.39502500000003",
         "278.35185",
         "0.5018305000000001",
         "0.25762170500000003",
         "2.0766706",
         "1.2345558"
        ],
        [
         "75%",
         "2249.25",
         "0.0",
         "9.25",
         "2014.0",
         "610.0",
         "81759.0",
         "4509.0",
         "84897.0",
         "0.20199999999999999",
         "85.6",
         "32.18833333333333",
         "65.0275",
         "52.166666666666664",
         "348.0",
         "293.6433175",
         "286.374195",
         "0.9193167875",
         "0.6056435775",
         "3.144423",
         "1.7117939"
        ],
        [
         "max",
         "2999.0",
         "0.0",
         "12.0",
         "2015.0",
         "2070.0",
         "570641.0",
         "94743.0",
         "665384.0",
         "0.8009999999999999",
         "94.2",
         "224.33",
         "2357.0",
         "228.0",
         "539.0",
         "305.91254",
         "296.83514",
         "3.4918945",
         "3.7984986",
         "5.161304",
         "2.7367926"
        ]
       ],
       "shape": {
        "columns": 20,
        "rows": 8
       }
      },
      "text/html": [
       "<div>\n",
       "<style scoped>\n",
       "    .dataframe tbody tr th:only-of-type {\n",
       "        vertical-align: middle;\n",
       "    }\n",
       "\n",
       "    .dataframe tbody tr th {\n",
       "        vertical-align: top;\n",
       "    }\n",
       "\n",
       "    .dataframe thead th {\n",
       "        text-align: right;\n",
       "    }\n",
       "</style>\n",
       "<table border=\"1\" class=\"dataframe\">\n",
       "  <thead>\n",
       "    <tr style=\"text-align: right;\">\n",
       "      <th></th>\n",
       "      <th>ID</th>\n",
       "      <th>total_fire_size</th>\n",
       "      <th>month</th>\n",
       "      <th>year</th>\n",
       "      <th>mean_elevation</th>\n",
       "      <th>Land Area (sq mi)</th>\n",
       "      <th>Water Area (sq mi)</th>\n",
       "      <th>Total Area (sq mi)</th>\n",
       "      <th>Percentage of Federal Land</th>\n",
       "      <th>Urbanization Rate (%)</th>\n",
       "      <th>PRCP</th>\n",
       "      <th>EVAP</th>\n",
       "      <th>TMIN</th>\n",
       "      <th>TMAX</th>\n",
       "      <th>t2m</th>\n",
       "      <th>d2m</th>\n",
       "      <th>u10</th>\n",
       "      <th>v10</th>\n",
       "      <th>lai_hv</th>\n",
       "      <th>lai_lv</th>\n",
       "    </tr>\n",
       "  </thead>\n",
       "  <tbody>\n",
       "    <tr>\n",
       "      <th>count</th>\n",
       "      <td>3000.000000</td>\n",
       "      <td>3000.0</td>\n",
       "      <td>3000.000000</td>\n",
       "      <td>3000.000000</td>\n",
       "      <td>3000.000000</td>\n",
       "      <td>3000.000000</td>\n",
       "      <td>3000.000000</td>\n",
       "      <td>3000.00000</td>\n",
       "      <td>3000.000000</td>\n",
       "      <td>3000.000000</td>\n",
       "      <td>3000.000000</td>\n",
       "      <td>3000.000000</td>\n",
       "      <td>3000.000000</td>\n",
       "      <td>3000.000000</td>\n",
       "      <td>3000.000000</td>\n",
       "      <td>3000.000000</td>\n",
       "      <td>3000.000000</td>\n",
       "      <td>3000.000000</td>\n",
       "      <td>3000.000000</td>\n",
       "      <td>3000.000000</td>\n",
       "    </tr>\n",
       "    <tr>\n",
       "      <th>mean</th>\n",
       "      <td>1499.500000</td>\n",
       "      <td>0.0</td>\n",
       "      <td>6.500000</td>\n",
       "      <td>2013.000000</td>\n",
       "      <td>518.060000</td>\n",
       "      <td>70636.920000</td>\n",
       "      <td>5296.680000</td>\n",
       "      <td>75933.52000</td>\n",
       "      <td>0.152560</td>\n",
       "      <td>72.458000</td>\n",
       "      <td>22.940518</td>\n",
       "      <td>62.851902</td>\n",
       "      <td>-15.651331</td>\n",
       "      <td>280.669133</td>\n",
       "      <td>285.167650</td>\n",
       "      <td>277.970639</td>\n",
       "      <td>0.507376</td>\n",
       "      <td>0.288974</td>\n",
       "      <td>2.312423</td>\n",
       "      <td>1.277840</td>\n",
       "    </tr>\n",
       "    <tr>\n",
       "      <th>std</th>\n",
       "      <td>866.169729</td>\n",
       "      <td>0.0</td>\n",
       "      <td>3.452628</td>\n",
       "      <td>1.414449</td>\n",
       "      <td>521.427047</td>\n",
       "      <td>84967.355216</td>\n",
       "      <td>14115.137803</td>\n",
       "      <td>96365.28055</td>\n",
       "      <td>0.202186</td>\n",
       "      <td>14.170398</td>\n",
       "      <td>18.748661</td>\n",
       "      <td>120.251343</td>\n",
       "      <td>101.936311</td>\n",
       "      <td>97.823181</td>\n",
       "      <td>10.065741</td>\n",
       "      <td>9.600977</td>\n",
       "      <td>0.672005</td>\n",
       "      <td>0.622357</td>\n",
       "      <td>1.136426</td>\n",
       "      <td>0.649492</td>\n",
       "    </tr>\n",
       "    <tr>\n",
       "      <th>min</th>\n",
       "      <td>0.000000</td>\n",
       "      <td>0.0</td>\n",
       "      <td>1.000000</td>\n",
       "      <td>2011.000000</td>\n",
       "      <td>20.000000</td>\n",
       "      <td>1034.000000</td>\n",
       "      <td>192.000000</td>\n",
       "      <td>1545.00000</td>\n",
       "      <td>0.003000</td>\n",
       "      <td>35.100000</td>\n",
       "      <td>0.000000</td>\n",
       "      <td>-96.870000</td>\n",
       "      <td>-333.000000</td>\n",
       "      <td>-83.000000</td>\n",
       "      <td>256.952800</td>\n",
       "      <td>253.374440</td>\n",
       "      <td>-1.738993</td>\n",
       "      <td>-1.735453</td>\n",
       "      <td>0.549933</td>\n",
       "      <td>0.045525</td>\n",
       "    </tr>\n",
       "    <tr>\n",
       "      <th>25%</th>\n",
       "      <td>749.750000</td>\n",
       "      <td>0.0</td>\n",
       "      <td>3.750000</td>\n",
       "      <td>2012.000000</td>\n",
       "      <td>180.000000</td>\n",
       "      <td>35826.000000</td>\n",
       "      <td>701.000000</td>\n",
       "      <td>36420.00000</td>\n",
       "      <td>0.019000</td>\n",
       "      <td>63.200000</td>\n",
       "      <td>8.847500</td>\n",
       "      <td>16.062500</td>\n",
       "      <td>-72.000000</td>\n",
       "      <td>222.333333</td>\n",
       "      <td>277.448660</td>\n",
       "      <td>270.390150</td>\n",
       "      <td>0.091715</td>\n",
       "      <td>-0.078800</td>\n",
       "      <td>1.495900</td>\n",
       "      <td>0.841755</td>\n",
       "    </tr>\n",
       "    <tr>\n",
       "      <th>50%</th>\n",
       "      <td>1499.500000</td>\n",
       "      <td>0.0</td>\n",
       "      <td>6.500000</td>\n",
       "      <td>2013.000000</td>\n",
       "      <td>300.000000</td>\n",
       "      <td>53891.500000</td>\n",
       "      <td>1501.500000</td>\n",
       "      <td>57093.50000</td>\n",
       "      <td>0.052000</td>\n",
       "      <td>72.100000</td>\n",
       "      <td>20.260000</td>\n",
       "      <td>40.760000</td>\n",
       "      <td>-17.000000</td>\n",
       "      <td>305.833333</td>\n",
       "      <td>286.395025</td>\n",
       "      <td>278.351850</td>\n",
       "      <td>0.501831</td>\n",
       "      <td>0.257622</td>\n",
       "      <td>2.076671</td>\n",
       "      <td>1.234556</td>\n",
       "    </tr>\n",
       "    <tr>\n",
       "      <th>75%</th>\n",
       "      <td>2249.250000</td>\n",
       "      <td>0.0</td>\n",
       "      <td>9.250000</td>\n",
       "      <td>2014.000000</td>\n",
       "      <td>610.000000</td>\n",
       "      <td>81759.000000</td>\n",
       "      <td>4509.000000</td>\n",
       "      <td>84897.00000</td>\n",
       "      <td>0.202000</td>\n",
       "      <td>85.600000</td>\n",
       "      <td>32.188333</td>\n",
       "      <td>65.027500</td>\n",
       "      <td>52.166667</td>\n",
       "      <td>348.000000</td>\n",
       "      <td>293.643318</td>\n",
       "      <td>286.374195</td>\n",
       "      <td>0.919317</td>\n",
       "      <td>0.605644</td>\n",
       "      <td>3.144423</td>\n",
       "      <td>1.711794</td>\n",
       "    </tr>\n",
       "    <tr>\n",
       "      <th>max</th>\n",
       "      <td>2999.000000</td>\n",
       "      <td>0.0</td>\n",
       "      <td>12.000000</td>\n",
       "      <td>2015.000000</td>\n",
       "      <td>2070.000000</td>\n",
       "      <td>570641.000000</td>\n",
       "      <td>94743.000000</td>\n",
       "      <td>665384.00000</td>\n",
       "      <td>0.801000</td>\n",
       "      <td>94.200000</td>\n",
       "      <td>224.330000</td>\n",
       "      <td>2357.000000</td>\n",
       "      <td>228.000000</td>\n",
       "      <td>539.000000</td>\n",
       "      <td>305.912540</td>\n",
       "      <td>296.835140</td>\n",
       "      <td>3.491894</td>\n",
       "      <td>3.798499</td>\n",
       "      <td>5.161304</td>\n",
       "      <td>2.736793</td>\n",
       "    </tr>\n",
       "  </tbody>\n",
       "</table>\n",
       "</div>"
      ],
      "text/plain": [
       "                ID  total_fire_size        month         year  mean_elevation  \\\n",
       "count  3000.000000           3000.0  3000.000000  3000.000000     3000.000000   \n",
       "mean   1499.500000              0.0     6.500000  2013.000000      518.060000   \n",
       "std     866.169729              0.0     3.452628     1.414449      521.427047   \n",
       "min       0.000000              0.0     1.000000  2011.000000       20.000000   \n",
       "25%     749.750000              0.0     3.750000  2012.000000      180.000000   \n",
       "50%    1499.500000              0.0     6.500000  2013.000000      300.000000   \n",
       "75%    2249.250000              0.0     9.250000  2014.000000      610.000000   \n",
       "max    2999.000000              0.0    12.000000  2015.000000     2070.000000   \n",
       "\n",
       "       Land Area (sq mi)  Water Area (sq mi)  Total Area (sq mi)  \\\n",
       "count        3000.000000         3000.000000          3000.00000   \n",
       "mean        70636.920000         5296.680000         75933.52000   \n",
       "std         84967.355216        14115.137803         96365.28055   \n",
       "min          1034.000000          192.000000          1545.00000   \n",
       "25%         35826.000000          701.000000         36420.00000   \n",
       "50%         53891.500000         1501.500000         57093.50000   \n",
       "75%         81759.000000         4509.000000         84897.00000   \n",
       "max        570641.000000        94743.000000        665384.00000   \n",
       "\n",
       "       Percentage of Federal Land  Urbanization Rate (%)         PRCP  \\\n",
       "count                 3000.000000            3000.000000  3000.000000   \n",
       "mean                     0.152560              72.458000    22.940518   \n",
       "std                      0.202186              14.170398    18.748661   \n",
       "min                      0.003000              35.100000     0.000000   \n",
       "25%                      0.019000              63.200000     8.847500   \n",
       "50%                      0.052000              72.100000    20.260000   \n",
       "75%                      0.202000              85.600000    32.188333   \n",
       "max                      0.801000              94.200000   224.330000   \n",
       "\n",
       "              EVAP         TMIN         TMAX          t2m          d2m  \\\n",
       "count  3000.000000  3000.000000  3000.000000  3000.000000  3000.000000   \n",
       "mean     62.851902   -15.651331   280.669133   285.167650   277.970639   \n",
       "std     120.251343   101.936311    97.823181    10.065741     9.600977   \n",
       "min     -96.870000  -333.000000   -83.000000   256.952800   253.374440   \n",
       "25%      16.062500   -72.000000   222.333333   277.448660   270.390150   \n",
       "50%      40.760000   -17.000000   305.833333   286.395025   278.351850   \n",
       "75%      65.027500    52.166667   348.000000   293.643318   286.374195   \n",
       "max    2357.000000   228.000000   539.000000   305.912540   296.835140   \n",
       "\n",
       "               u10          v10       lai_hv       lai_lv  \n",
       "count  3000.000000  3000.000000  3000.000000  3000.000000  \n",
       "mean      0.507376     0.288974     2.312423     1.277840  \n",
       "std       0.672005     0.622357     1.136426     0.649492  \n",
       "min      -1.738993    -1.735453     0.549933     0.045525  \n",
       "25%       0.091715    -0.078800     1.495900     0.841755  \n",
       "50%       0.501831     0.257622     2.076671     1.234556  \n",
       "75%       0.919317     0.605644     3.144423     1.711794  \n",
       "max       3.491894     3.798499     5.161304     2.736793  "
      ]
     },
     "execution_count": 20,
     "metadata": {},
     "output_type": "execute_result"
    }
   ],
   "source": [
    "final_merged_2011_2015.describe()"
   ]
  },
  {
   "cell_type": "code",
   "execution_count": null,
   "metadata": {},
   "outputs": [],
   "source": [
    "# final_merged_2011_2015.to_csv('data/submission_merged.csv', index=False)"
   ]
  },
  {
   "cell_type": "markdown",
   "metadata": {},
   "source": [
    "# Dataset splitting"
   ]
  },
  {
   "cell_type": "code",
   "execution_count": null,
   "metadata": {},
   "outputs": [],
   "source": [
    "# from sklearn.model_selection import train_test_split\n",
    "# from sklearn.preprocessing import StandardScaler\n",
    "\n",
    "# # Initialize the StandardScaler\n",
    "# scaler = StandardScaler()\n",
    "\n",
    "# # Separate the data into X and y\n",
    "# X = final_merged.drop(columns=['total_fire_size'])\n",
    "# y = final_merged['total_fire_size']\n",
    "\n",
    "# # Scale everything except year, month, and state\n",
    "# X_scaled = X.copy()\n",
    "# columns_to_scale = X_scaled.columns.difference(['State', 'year', 'month'])\n",
    "# X_scaled[columns_to_scale] = scaler.fit_transform(X_scaled[columns_to_scale])\n",
    "\n",
    "# # Split the data into training and testing sets\n",
    "# X_train, X_test, y_train, y_test = train_test_split(X_scaled, y, test_size=0.2, random_state=42)"
   ]
  },
  {
   "cell_type": "code",
   "execution_count": null,
   "metadata": {},
   "outputs": [
    {
     "ename": "ValueError",
     "evalue": "pandas dtypes must be int, float or bool.\nFields with bad pandas dtypes: State: object",
     "output_type": "error",
     "traceback": [
      "\u001b[0;31m---------------------------------------------------------------------------\u001b[0m",
      "\u001b[0;31mValueError\u001b[0m                                Traceback (most recent call last)",
      "Cell \u001b[0;32mIn[19], line 7\u001b[0m\n\u001b[1;32m      4\u001b[0m grd \u001b[38;5;241m=\u001b[39m lgb\u001b[38;5;241m.\u001b[39mLGBMRegressor(n_estimators\u001b[38;5;241m=\u001b[39m\u001b[38;5;241m1000\u001b[39m, objective\u001b[38;5;241m=\u001b[39m\u001b[38;5;124m'\u001b[39m\u001b[38;5;124mregression\u001b[39m\u001b[38;5;124m'\u001b[39m, learning_rate\u001b[38;5;241m=\u001b[39m\u001b[38;5;241m0.001\u001b[39m, max_depth\u001b[38;5;241m=\u001b[39m\u001b[38;5;241m16\u001b[39m, reg_lambda\u001b[38;5;241m=\u001b[39m\u001b[38;5;241m1e-12\u001b[39m, random_state\u001b[38;5;241m=\u001b[39m\u001b[38;5;241m42\u001b[39m, verbose\u001b[38;5;241m=\u001b[39m\u001b[38;5;241m1\u001b[39m)\n\u001b[1;32m      6\u001b[0m \u001b[38;5;66;03m# Fit the model\u001b[39;00m\n\u001b[0;32m----> 7\u001b[0m \u001b[43mgrd\u001b[49m\u001b[38;5;241;43m.\u001b[39;49m\u001b[43mfit\u001b[49m\u001b[43m(\u001b[49m\u001b[43mX_train\u001b[49m\u001b[43m,\u001b[49m\u001b[43m \u001b[49m\u001b[43my_train\u001b[49m\u001b[43m)\u001b[49m\n\u001b[1;32m      9\u001b[0m \u001b[38;5;66;03m# Predict the test set\u001b[39;00m\n\u001b[1;32m     10\u001b[0m y_pred \u001b[38;5;241m=\u001b[39m grd\u001b[38;5;241m.\u001b[39mpredict(X_test)\n",
      "File \u001b[0;32m~/GitHub/Hackathon_22feb/.venv/lib/python3.10/site-packages/lightgbm/sklearn.py:1398\u001b[0m, in \u001b[0;36mLGBMRegressor.fit\u001b[0;34m(self, X, y, sample_weight, init_score, eval_set, eval_names, eval_sample_weight, eval_init_score, eval_metric, feature_name, categorical_feature, callbacks, init_model)\u001b[0m\n\u001b[1;32m   1381\u001b[0m \u001b[38;5;28;01mdef\u001b[39;00m\u001b[38;5;250m \u001b[39m\u001b[38;5;21mfit\u001b[39m(  \u001b[38;5;66;03m# type: ignore[override]\u001b[39;00m\n\u001b[1;32m   1382\u001b[0m     \u001b[38;5;28mself\u001b[39m,\n\u001b[1;32m   1383\u001b[0m     X: _LGBM_ScikitMatrixLike,\n\u001b[0;32m   (...)\u001b[0m\n\u001b[1;32m   1395\u001b[0m     init_model: Optional[Union[\u001b[38;5;28mstr\u001b[39m, Path, Booster, LGBMModel]] \u001b[38;5;241m=\u001b[39m \u001b[38;5;28;01mNone\u001b[39;00m,\n\u001b[1;32m   1396\u001b[0m ) \u001b[38;5;241m-\u001b[39m\u001b[38;5;241m>\u001b[39m \u001b[38;5;124m\"\u001b[39m\u001b[38;5;124mLGBMRegressor\u001b[39m\u001b[38;5;124m\"\u001b[39m:\n\u001b[1;32m   1397\u001b[0m \u001b[38;5;250m    \u001b[39m\u001b[38;5;124;03m\"\"\"Docstring is inherited from the LGBMModel.\"\"\"\u001b[39;00m\n\u001b[0;32m-> 1398\u001b[0m     \u001b[38;5;28;43msuper\u001b[39;49m\u001b[43m(\u001b[49m\u001b[43m)\u001b[49m\u001b[38;5;241;43m.\u001b[39;49m\u001b[43mfit\u001b[49m\u001b[43m(\u001b[49m\n\u001b[1;32m   1399\u001b[0m \u001b[43m        \u001b[49m\u001b[43mX\u001b[49m\u001b[43m,\u001b[49m\n\u001b[1;32m   1400\u001b[0m \u001b[43m        \u001b[49m\u001b[43my\u001b[49m\u001b[43m,\u001b[49m\n\u001b[1;32m   1401\u001b[0m \u001b[43m        \u001b[49m\u001b[43msample_weight\u001b[49m\u001b[38;5;241;43m=\u001b[39;49m\u001b[43msample_weight\u001b[49m\u001b[43m,\u001b[49m\n\u001b[1;32m   1402\u001b[0m \u001b[43m        \u001b[49m\u001b[43minit_score\u001b[49m\u001b[38;5;241;43m=\u001b[39;49m\u001b[43minit_score\u001b[49m\u001b[43m,\u001b[49m\n\u001b[1;32m   1403\u001b[0m \u001b[43m        \u001b[49m\u001b[43meval_set\u001b[49m\u001b[38;5;241;43m=\u001b[39;49m\u001b[43meval_set\u001b[49m\u001b[43m,\u001b[49m\n\u001b[1;32m   1404\u001b[0m \u001b[43m        \u001b[49m\u001b[43meval_names\u001b[49m\u001b[38;5;241;43m=\u001b[39;49m\u001b[43meval_names\u001b[49m\u001b[43m,\u001b[49m\n\u001b[1;32m   1405\u001b[0m \u001b[43m        \u001b[49m\u001b[43meval_sample_weight\u001b[49m\u001b[38;5;241;43m=\u001b[39;49m\u001b[43meval_sample_weight\u001b[49m\u001b[43m,\u001b[49m\n\u001b[1;32m   1406\u001b[0m \u001b[43m        \u001b[49m\u001b[43meval_init_score\u001b[49m\u001b[38;5;241;43m=\u001b[39;49m\u001b[43meval_init_score\u001b[49m\u001b[43m,\u001b[49m\n\u001b[1;32m   1407\u001b[0m \u001b[43m        \u001b[49m\u001b[43meval_metric\u001b[49m\u001b[38;5;241;43m=\u001b[39;49m\u001b[43meval_metric\u001b[49m\u001b[43m,\u001b[49m\n\u001b[1;32m   1408\u001b[0m \u001b[43m        \u001b[49m\u001b[43mfeature_name\u001b[49m\u001b[38;5;241;43m=\u001b[39;49m\u001b[43mfeature_name\u001b[49m\u001b[43m,\u001b[49m\n\u001b[1;32m   1409\u001b[0m \u001b[43m        \u001b[49m\u001b[43mcategorical_feature\u001b[49m\u001b[38;5;241;43m=\u001b[39;49m\u001b[43mcategorical_feature\u001b[49m\u001b[43m,\u001b[49m\n\u001b[1;32m   1410\u001b[0m \u001b[43m        \u001b[49m\u001b[43mcallbacks\u001b[49m\u001b[38;5;241;43m=\u001b[39;49m\u001b[43mcallbacks\u001b[49m\u001b[43m,\u001b[49m\n\u001b[1;32m   1411\u001b[0m \u001b[43m        \u001b[49m\u001b[43minit_model\u001b[49m\u001b[38;5;241;43m=\u001b[39;49m\u001b[43minit_model\u001b[49m\u001b[43m,\u001b[49m\n\u001b[1;32m   1412\u001b[0m \u001b[43m    \u001b[49m\u001b[43m)\u001b[49m\n\u001b[1;32m   1413\u001b[0m     \u001b[38;5;28;01mreturn\u001b[39;00m \u001b[38;5;28mself\u001b[39m\n",
      "File \u001b[0;32m~/GitHub/Hackathon_22feb/.venv/lib/python3.10/site-packages/lightgbm/sklearn.py:1049\u001b[0m, in \u001b[0;36mLGBMModel.fit\u001b[0;34m(self, X, y, sample_weight, init_score, group, eval_set, eval_names, eval_sample_weight, eval_class_weight, eval_init_score, eval_group, eval_metric, feature_name, categorical_feature, callbacks, init_model)\u001b[0m\n\u001b[1;32m   1046\u001b[0m evals_result: _EvalResultDict \u001b[38;5;241m=\u001b[39m {}\n\u001b[1;32m   1047\u001b[0m callbacks\u001b[38;5;241m.\u001b[39mappend(record_evaluation(evals_result))\n\u001b[0;32m-> 1049\u001b[0m \u001b[38;5;28mself\u001b[39m\u001b[38;5;241m.\u001b[39m_Booster \u001b[38;5;241m=\u001b[39m \u001b[43mtrain\u001b[49m\u001b[43m(\u001b[49m\n\u001b[1;32m   1050\u001b[0m \u001b[43m    \u001b[49m\u001b[43mparams\u001b[49m\u001b[38;5;241;43m=\u001b[39;49m\u001b[43mparams\u001b[49m\u001b[43m,\u001b[49m\n\u001b[1;32m   1051\u001b[0m \u001b[43m    \u001b[49m\u001b[43mtrain_set\u001b[49m\u001b[38;5;241;43m=\u001b[39;49m\u001b[43mtrain_set\u001b[49m\u001b[43m,\u001b[49m\n\u001b[1;32m   1052\u001b[0m \u001b[43m    \u001b[49m\u001b[43mnum_boost_round\u001b[49m\u001b[38;5;241;43m=\u001b[39;49m\u001b[38;5;28;43mself\u001b[39;49m\u001b[38;5;241;43m.\u001b[39;49m\u001b[43mn_estimators\u001b[49m\u001b[43m,\u001b[49m\n\u001b[1;32m   1053\u001b[0m \u001b[43m    \u001b[49m\u001b[43mvalid_sets\u001b[49m\u001b[38;5;241;43m=\u001b[39;49m\u001b[43mvalid_sets\u001b[49m\u001b[43m,\u001b[49m\n\u001b[1;32m   1054\u001b[0m \u001b[43m    \u001b[49m\u001b[43mvalid_names\u001b[49m\u001b[38;5;241;43m=\u001b[39;49m\u001b[43meval_names\u001b[49m\u001b[43m,\u001b[49m\n\u001b[1;32m   1055\u001b[0m \u001b[43m    \u001b[49m\u001b[43mfeval\u001b[49m\u001b[38;5;241;43m=\u001b[39;49m\u001b[43meval_metrics_callable\u001b[49m\u001b[43m,\u001b[49m\u001b[43m  \u001b[49m\u001b[38;5;66;43;03m# type: ignore[arg-type]\u001b[39;49;00m\n\u001b[1;32m   1056\u001b[0m \u001b[43m    \u001b[49m\u001b[43minit_model\u001b[49m\u001b[38;5;241;43m=\u001b[39;49m\u001b[43minit_model\u001b[49m\u001b[43m,\u001b[49m\n\u001b[1;32m   1057\u001b[0m \u001b[43m    \u001b[49m\u001b[43mcallbacks\u001b[49m\u001b[38;5;241;43m=\u001b[39;49m\u001b[43mcallbacks\u001b[49m\u001b[43m,\u001b[49m\n\u001b[1;32m   1058\u001b[0m \u001b[43m\u001b[49m\u001b[43m)\u001b[49m\n\u001b[1;32m   1060\u001b[0m \u001b[38;5;66;03m# This populates the property self.n_features_, the number of features in the fitted model,\u001b[39;00m\n\u001b[1;32m   1061\u001b[0m \u001b[38;5;66;03m# and so should only be set after fitting.\u001b[39;00m\n\u001b[1;32m   1062\u001b[0m \u001b[38;5;66;03m#\u001b[39;00m\n\u001b[1;32m   1063\u001b[0m \u001b[38;5;66;03m# The related property self._n_features_in, which populates self.n_features_in_,\u001b[39;00m\n\u001b[1;32m   1064\u001b[0m \u001b[38;5;66;03m# is set BEFORE fitting.\u001b[39;00m\n\u001b[1;32m   1065\u001b[0m \u001b[38;5;28mself\u001b[39m\u001b[38;5;241m.\u001b[39m_n_features \u001b[38;5;241m=\u001b[39m \u001b[38;5;28mself\u001b[39m\u001b[38;5;241m.\u001b[39m_Booster\u001b[38;5;241m.\u001b[39mnum_feature()\n",
      "File \u001b[0;32m~/GitHub/Hackathon_22feb/.venv/lib/python3.10/site-packages/lightgbm/engine.py:297\u001b[0m, in \u001b[0;36mtrain\u001b[0;34m(params, train_set, num_boost_round, valid_sets, valid_names, feval, init_model, keep_training_booster, callbacks)\u001b[0m\n\u001b[1;32m    295\u001b[0m \u001b[38;5;66;03m# construct booster\u001b[39;00m\n\u001b[1;32m    296\u001b[0m \u001b[38;5;28;01mtry\u001b[39;00m:\n\u001b[0;32m--> 297\u001b[0m     booster \u001b[38;5;241m=\u001b[39m \u001b[43mBooster\u001b[49m\u001b[43m(\u001b[49m\u001b[43mparams\u001b[49m\u001b[38;5;241;43m=\u001b[39;49m\u001b[43mparams\u001b[49m\u001b[43m,\u001b[49m\u001b[43m \u001b[49m\u001b[43mtrain_set\u001b[49m\u001b[38;5;241;43m=\u001b[39;49m\u001b[43mtrain_set\u001b[49m\u001b[43m)\u001b[49m\n\u001b[1;32m    298\u001b[0m     \u001b[38;5;28;01mif\u001b[39;00m is_valid_contain_train:\n\u001b[1;32m    299\u001b[0m         booster\u001b[38;5;241m.\u001b[39mset_train_data_name(train_data_name)\n",
      "File \u001b[0;32m~/GitHub/Hackathon_22feb/.venv/lib/python3.10/site-packages/lightgbm/basic.py:3656\u001b[0m, in \u001b[0;36mBooster.__init__\u001b[0;34m(self, params, train_set, model_file, model_str)\u001b[0m\n\u001b[1;32m   3649\u001b[0m     \u001b[38;5;28mself\u001b[39m\u001b[38;5;241m.\u001b[39mset_network(\n\u001b[1;32m   3650\u001b[0m         machines\u001b[38;5;241m=\u001b[39mmachines,\n\u001b[1;32m   3651\u001b[0m         local_listen_port\u001b[38;5;241m=\u001b[39mparams[\u001b[38;5;124m\"\u001b[39m\u001b[38;5;124mlocal_listen_port\u001b[39m\u001b[38;5;124m\"\u001b[39m],\n\u001b[1;32m   3652\u001b[0m         listen_time_out\u001b[38;5;241m=\u001b[39mparams\u001b[38;5;241m.\u001b[39mget(\u001b[38;5;124m\"\u001b[39m\u001b[38;5;124mtime_out\u001b[39m\u001b[38;5;124m\"\u001b[39m, \u001b[38;5;241m120\u001b[39m),\n\u001b[1;32m   3653\u001b[0m         num_machines\u001b[38;5;241m=\u001b[39mparams[\u001b[38;5;124m\"\u001b[39m\u001b[38;5;124mnum_machines\u001b[39m\u001b[38;5;124m\"\u001b[39m],\n\u001b[1;32m   3654\u001b[0m     )\n\u001b[1;32m   3655\u001b[0m \u001b[38;5;66;03m# construct booster object\u001b[39;00m\n\u001b[0;32m-> 3656\u001b[0m \u001b[43mtrain_set\u001b[49m\u001b[38;5;241;43m.\u001b[39;49m\u001b[43mconstruct\u001b[49m\u001b[43m(\u001b[49m\u001b[43m)\u001b[49m\n\u001b[1;32m   3657\u001b[0m \u001b[38;5;66;03m# copy the parameters from train_set\u001b[39;00m\n\u001b[1;32m   3658\u001b[0m params\u001b[38;5;241m.\u001b[39mupdate(train_set\u001b[38;5;241m.\u001b[39mget_params())\n",
      "File \u001b[0;32m~/GitHub/Hackathon_22feb/.venv/lib/python3.10/site-packages/lightgbm/basic.py:2590\u001b[0m, in \u001b[0;36mDataset.construct\u001b[0;34m(self)\u001b[0m\n\u001b[1;32m   2585\u001b[0m             \u001b[38;5;28mself\u001b[39m\u001b[38;5;241m.\u001b[39m_set_init_score_by_predictor(\n\u001b[1;32m   2586\u001b[0m                 predictor\u001b[38;5;241m=\u001b[39m\u001b[38;5;28mself\u001b[39m\u001b[38;5;241m.\u001b[39m_predictor, data\u001b[38;5;241m=\u001b[39m\u001b[38;5;28mself\u001b[39m\u001b[38;5;241m.\u001b[39mdata, used_indices\u001b[38;5;241m=\u001b[39mused_indices\n\u001b[1;32m   2587\u001b[0m             )\n\u001b[1;32m   2588\u001b[0m \u001b[38;5;28;01melse\u001b[39;00m:\n\u001b[1;32m   2589\u001b[0m     \u001b[38;5;66;03m# create train\u001b[39;00m\n\u001b[0;32m-> 2590\u001b[0m     \u001b[38;5;28;43mself\u001b[39;49m\u001b[38;5;241;43m.\u001b[39;49m\u001b[43m_lazy_init\u001b[49m\u001b[43m(\u001b[49m\n\u001b[1;32m   2591\u001b[0m \u001b[43m        \u001b[49m\u001b[43mdata\u001b[49m\u001b[38;5;241;43m=\u001b[39;49m\u001b[38;5;28;43mself\u001b[39;49m\u001b[38;5;241;43m.\u001b[39;49m\u001b[43mdata\u001b[49m\u001b[43m,\u001b[49m\n\u001b[1;32m   2592\u001b[0m \u001b[43m        \u001b[49m\u001b[43mlabel\u001b[49m\u001b[38;5;241;43m=\u001b[39;49m\u001b[38;5;28;43mself\u001b[39;49m\u001b[38;5;241;43m.\u001b[39;49m\u001b[43mlabel\u001b[49m\u001b[43m,\u001b[49m\n\u001b[1;32m   2593\u001b[0m \u001b[43m        \u001b[49m\u001b[43mreference\u001b[49m\u001b[38;5;241;43m=\u001b[39;49m\u001b[38;5;28;43;01mNone\u001b[39;49;00m\u001b[43m,\u001b[49m\n\u001b[1;32m   2594\u001b[0m \u001b[43m        \u001b[49m\u001b[43mweight\u001b[49m\u001b[38;5;241;43m=\u001b[39;49m\u001b[38;5;28;43mself\u001b[39;49m\u001b[38;5;241;43m.\u001b[39;49m\u001b[43mweight\u001b[49m\u001b[43m,\u001b[49m\n\u001b[1;32m   2595\u001b[0m \u001b[43m        \u001b[49m\u001b[43mgroup\u001b[49m\u001b[38;5;241;43m=\u001b[39;49m\u001b[38;5;28;43mself\u001b[39;49m\u001b[38;5;241;43m.\u001b[39;49m\u001b[43mgroup\u001b[49m\u001b[43m,\u001b[49m\n\u001b[1;32m   2596\u001b[0m \u001b[43m        \u001b[49m\u001b[43minit_score\u001b[49m\u001b[38;5;241;43m=\u001b[39;49m\u001b[38;5;28;43mself\u001b[39;49m\u001b[38;5;241;43m.\u001b[39;49m\u001b[43minit_score\u001b[49m\u001b[43m,\u001b[49m\n\u001b[1;32m   2597\u001b[0m \u001b[43m        \u001b[49m\u001b[43mpredictor\u001b[49m\u001b[38;5;241;43m=\u001b[39;49m\u001b[38;5;28;43mself\u001b[39;49m\u001b[38;5;241;43m.\u001b[39;49m\u001b[43m_predictor\u001b[49m\u001b[43m,\u001b[49m\n\u001b[1;32m   2598\u001b[0m \u001b[43m        \u001b[49m\u001b[43mfeature_name\u001b[49m\u001b[38;5;241;43m=\u001b[39;49m\u001b[38;5;28;43mself\u001b[39;49m\u001b[38;5;241;43m.\u001b[39;49m\u001b[43mfeature_name\u001b[49m\u001b[43m,\u001b[49m\n\u001b[1;32m   2599\u001b[0m \u001b[43m        \u001b[49m\u001b[43mcategorical_feature\u001b[49m\u001b[38;5;241;43m=\u001b[39;49m\u001b[38;5;28;43mself\u001b[39;49m\u001b[38;5;241;43m.\u001b[39;49m\u001b[43mcategorical_feature\u001b[49m\u001b[43m,\u001b[49m\n\u001b[1;32m   2600\u001b[0m \u001b[43m        \u001b[49m\u001b[43mparams\u001b[49m\u001b[38;5;241;43m=\u001b[39;49m\u001b[38;5;28;43mself\u001b[39;49m\u001b[38;5;241;43m.\u001b[39;49m\u001b[43mparams\u001b[49m\u001b[43m,\u001b[49m\n\u001b[1;32m   2601\u001b[0m \u001b[43m        \u001b[49m\u001b[43mposition\u001b[49m\u001b[38;5;241;43m=\u001b[39;49m\u001b[38;5;28;43mself\u001b[39;49m\u001b[38;5;241;43m.\u001b[39;49m\u001b[43mposition\u001b[49m\u001b[43m,\u001b[49m\n\u001b[1;32m   2602\u001b[0m \u001b[43m    \u001b[49m\u001b[43m)\u001b[49m\n\u001b[1;32m   2603\u001b[0m \u001b[38;5;28;01mif\u001b[39;00m \u001b[38;5;28mself\u001b[39m\u001b[38;5;241m.\u001b[39mfree_raw_data:\n\u001b[1;32m   2604\u001b[0m     \u001b[38;5;28mself\u001b[39m\u001b[38;5;241m.\u001b[39mdata \u001b[38;5;241m=\u001b[39m \u001b[38;5;28;01mNone\u001b[39;00m\n",
      "File \u001b[0;32m~/GitHub/Hackathon_22feb/.venv/lib/python3.10/site-packages/lightgbm/basic.py:2123\u001b[0m, in \u001b[0;36mDataset._lazy_init\u001b[0;34m(self, data, label, reference, weight, group, init_score, predictor, feature_name, categorical_feature, params, position)\u001b[0m\n\u001b[1;32m   2121\u001b[0m     categorical_feature \u001b[38;5;241m=\u001b[39m reference\u001b[38;5;241m.\u001b[39mcategorical_feature\n\u001b[1;32m   2122\u001b[0m \u001b[38;5;28;01mif\u001b[39;00m \u001b[38;5;28misinstance\u001b[39m(data, pd_DataFrame):\n\u001b[0;32m-> 2123\u001b[0m     data, feature_name, categorical_feature, \u001b[38;5;28mself\u001b[39m\u001b[38;5;241m.\u001b[39mpandas_categorical \u001b[38;5;241m=\u001b[39m \u001b[43m_data_from_pandas\u001b[49m\u001b[43m(\u001b[49m\n\u001b[1;32m   2124\u001b[0m \u001b[43m        \u001b[49m\u001b[43mdata\u001b[49m\u001b[38;5;241;43m=\u001b[39;49m\u001b[43mdata\u001b[49m\u001b[43m,\u001b[49m\n\u001b[1;32m   2125\u001b[0m \u001b[43m        \u001b[49m\u001b[43mfeature_name\u001b[49m\u001b[38;5;241;43m=\u001b[39;49m\u001b[43mfeature_name\u001b[49m\u001b[43m,\u001b[49m\n\u001b[1;32m   2126\u001b[0m \u001b[43m        \u001b[49m\u001b[43mcategorical_feature\u001b[49m\u001b[38;5;241;43m=\u001b[39;49m\u001b[43mcategorical_feature\u001b[49m\u001b[43m,\u001b[49m\n\u001b[1;32m   2127\u001b[0m \u001b[43m        \u001b[49m\u001b[43mpandas_categorical\u001b[49m\u001b[38;5;241;43m=\u001b[39;49m\u001b[38;5;28;43mself\u001b[39;49m\u001b[38;5;241;43m.\u001b[39;49m\u001b[43mpandas_categorical\u001b[49m\u001b[43m,\u001b[49m\n\u001b[1;32m   2128\u001b[0m \u001b[43m    \u001b[49m\u001b[43m)\u001b[49m\n\u001b[1;32m   2129\u001b[0m \u001b[38;5;28;01melif\u001b[39;00m _is_pyarrow_table(data) \u001b[38;5;129;01mand\u001b[39;00m feature_name \u001b[38;5;241m==\u001b[39m \u001b[38;5;124m\"\u001b[39m\u001b[38;5;124mauto\u001b[39m\u001b[38;5;124m\"\u001b[39m:\n\u001b[1;32m   2130\u001b[0m     feature_name \u001b[38;5;241m=\u001b[39m data\u001b[38;5;241m.\u001b[39mcolumn_names\n",
      "File \u001b[0;32m~/GitHub/Hackathon_22feb/.venv/lib/python3.10/site-packages/lightgbm/basic.py:868\u001b[0m, in \u001b[0;36m_data_from_pandas\u001b[0;34m(data, feature_name, categorical_feature, pandas_categorical)\u001b[0m\n\u001b[1;32m    864\u001b[0m df_dtypes\u001b[38;5;241m.\u001b[39mappend(np\u001b[38;5;241m.\u001b[39mfloat32)\n\u001b[1;32m    865\u001b[0m target_dtype \u001b[38;5;241m=\u001b[39m np\u001b[38;5;241m.\u001b[39mresult_type(\u001b[38;5;241m*\u001b[39mdf_dtypes)\n\u001b[1;32m    867\u001b[0m \u001b[38;5;28;01mreturn\u001b[39;00m (\n\u001b[0;32m--> 868\u001b[0m     \u001b[43m_pandas_to_numpy\u001b[49m\u001b[43m(\u001b[49m\u001b[43mdata\u001b[49m\u001b[43m,\u001b[49m\u001b[43m \u001b[49m\u001b[43mtarget_dtype\u001b[49m\u001b[38;5;241;43m=\u001b[39;49m\u001b[43mtarget_dtype\u001b[49m\u001b[43m)\u001b[49m,\n\u001b[1;32m    869\u001b[0m     feature_name,\n\u001b[1;32m    870\u001b[0m     categorical_feature,\n\u001b[1;32m    871\u001b[0m     pandas_categorical,\n\u001b[1;32m    872\u001b[0m )\n",
      "File \u001b[0;32m~/GitHub/Hackathon_22feb/.venv/lib/python3.10/site-packages/lightgbm/basic.py:814\u001b[0m, in \u001b[0;36m_pandas_to_numpy\u001b[0;34m(data, target_dtype)\u001b[0m\n\u001b[1;32m    810\u001b[0m \u001b[38;5;28;01mdef\u001b[39;00m\u001b[38;5;250m \u001b[39m\u001b[38;5;21m_pandas_to_numpy\u001b[39m(\n\u001b[1;32m    811\u001b[0m     data: pd_DataFrame,\n\u001b[1;32m    812\u001b[0m     target_dtype: \u001b[38;5;124m\"\u001b[39m\u001b[38;5;124mnp.typing.DTypeLike\u001b[39m\u001b[38;5;124m\"\u001b[39m,\n\u001b[1;32m    813\u001b[0m ) \u001b[38;5;241m-\u001b[39m\u001b[38;5;241m>\u001b[39m np\u001b[38;5;241m.\u001b[39mndarray:\n\u001b[0;32m--> 814\u001b[0m     \u001b[43m_check_for_bad_pandas_dtypes\u001b[49m\u001b[43m(\u001b[49m\u001b[43mdata\u001b[49m\u001b[38;5;241;43m.\u001b[39;49m\u001b[43mdtypes\u001b[49m\u001b[43m)\u001b[49m\n\u001b[1;32m    815\u001b[0m     \u001b[38;5;28;01mtry\u001b[39;00m:\n\u001b[1;32m    816\u001b[0m         \u001b[38;5;66;03m# most common case (no nullable dtypes)\u001b[39;00m\n\u001b[1;32m    817\u001b[0m         \u001b[38;5;28;01mreturn\u001b[39;00m data\u001b[38;5;241m.\u001b[39mto_numpy(dtype\u001b[38;5;241m=\u001b[39mtarget_dtype, copy\u001b[38;5;241m=\u001b[39m\u001b[38;5;28;01mFalse\u001b[39;00m)\n",
      "File \u001b[0;32m~/GitHub/Hackathon_22feb/.venv/lib/python3.10/site-packages/lightgbm/basic.py:805\u001b[0m, in \u001b[0;36m_check_for_bad_pandas_dtypes\u001b[0;34m(pandas_dtypes_series)\u001b[0m\n\u001b[1;32m    799\u001b[0m bad_pandas_dtypes \u001b[38;5;241m=\u001b[39m [\n\u001b[1;32m    800\u001b[0m     \u001b[38;5;124mf\u001b[39m\u001b[38;5;124m\"\u001b[39m\u001b[38;5;132;01m{\u001b[39;00mcolumn_name\u001b[38;5;132;01m}\u001b[39;00m\u001b[38;5;124m: \u001b[39m\u001b[38;5;132;01m{\u001b[39;00mpandas_dtype\u001b[38;5;132;01m}\u001b[39;00m\u001b[38;5;124m\"\u001b[39m\n\u001b[1;32m    801\u001b[0m     \u001b[38;5;28;01mfor\u001b[39;00m column_name, pandas_dtype \u001b[38;5;129;01min\u001b[39;00m pandas_dtypes_series\u001b[38;5;241m.\u001b[39mitems()\n\u001b[1;32m    802\u001b[0m     \u001b[38;5;28;01mif\u001b[39;00m \u001b[38;5;129;01mnot\u001b[39;00m _is_allowed_numpy_dtype(pandas_dtype\u001b[38;5;241m.\u001b[39mtype)\n\u001b[1;32m    803\u001b[0m ]\n\u001b[1;32m    804\u001b[0m \u001b[38;5;28;01mif\u001b[39;00m bad_pandas_dtypes:\n\u001b[0;32m--> 805\u001b[0m     \u001b[38;5;28;01mraise\u001b[39;00m \u001b[38;5;167;01mValueError\u001b[39;00m(\n\u001b[1;32m    806\u001b[0m         \u001b[38;5;124mf\u001b[39m\u001b[38;5;124m\"\u001b[39m\u001b[38;5;124mpandas dtypes must be int, float or bool.\u001b[39m\u001b[38;5;130;01m\\n\u001b[39;00m\u001b[38;5;124mFields with bad pandas dtypes: \u001b[39m\u001b[38;5;132;01m{\u001b[39;00m\u001b[38;5;124m'\u001b[39m\u001b[38;5;124m, \u001b[39m\u001b[38;5;124m'\u001b[39m\u001b[38;5;241m.\u001b[39mjoin(bad_pandas_dtypes)\u001b[38;5;132;01m}\u001b[39;00m\u001b[38;5;124m\"\u001b[39m\n\u001b[1;32m    807\u001b[0m     )\n",
      "\u001b[0;31mValueError\u001b[0m: pandas dtypes must be int, float or bool.\nFields with bad pandas dtypes: State: object"
     ]
    }
   ],
   "source": [
    "# import lightgbm as lgb\n",
    "\n",
    "# # Initialize the LGBMRegressor with fixed hyperparameters\n",
    "# grd = lgb.LGBMRegressor(n_estimators=1000, objective='regression', learning_rate=0.001, max_depth=16, reg_lambda=1e-12, random_state=42, verbose=1)\n",
    "\n",
    "# # Fit the model\n",
    "# grd.fit(X_train, y_train)\n",
    "\n",
    "# # Predict the test set\n",
    "# y_pred = grd.predict(X_test)\n",
    "\n",
    "# # Calculate the mse\n",
    "# rmse = np.sqrt(np.mean((y_test - y_pred)**2))\n",
    "# rmse"
   ]
  },
  {
   "cell_type": "code",
   "execution_count": null,
   "metadata": {},
   "outputs": [
    {
     "name": "stdout",
     "output_type": "stream",
     "text": [
      "[LightGBM] [Warning] Found whitespace in feature_names, replace with underlines\n",
      "[LightGBM] [Info] Auto-choosing col-wise multi-threading, the overhead of testing was 0.000442 seconds.\n",
      "You can set `force_col_wise=true` to remove the overhead.\n",
      "[LightGBM] [Info] Total Bins 2541\n",
      "[LightGBM] [Info] Number of data points in the train set: 5943, number of used features: 19\n",
      "[LightGBM] [Info] Start training from score 8475.410185\n",
      "[LightGBM] [Warning] Found whitespace in feature_names, replace with underlines\n",
      "[LightGBM] [Info] Auto-choosing col-wise multi-threading, the overhead of testing was 0.000519 seconds.\n",
      "You can set `force_col_wise=true` to remove the overhead.\n",
      "[LightGBM] [Info] Total Bins 2535\n",
      "[LightGBM] [Info] Number of data points in the train set: 5943, number of used features: 19\n",
      "[LightGBM] [Info] Start training from score 8724.801289\n",
      "[LightGBM] [Warning] Found whitespace in feature_names, replace with underlines\n",
      "[LightGBM] [Info] Auto-choosing col-wise multi-threading, the overhead of testing was 0.000374 seconds.\n",
      "You can set `force_col_wise=true` to remove the overhead.\n",
      "[LightGBM] [Info] Total Bins 2541\n",
      "[LightGBM] [Info] Number of data points in the train set: 5943, number of used features: 19\n",
      "[LightGBM] [Info] Start training from score 8808.717751\n",
      "[LightGBM] [Warning] Found whitespace in feature_names, replace with underlines\n",
      "[LightGBM] [Info] Auto-choosing col-wise multi-threading, the overhead of testing was 0.000365 seconds.\n",
      "You can set `force_col_wise=true` to remove the overhead.\n",
      "[LightGBM] [Info] Total Bins 2538\n",
      "[LightGBM] [Info] Number of data points in the train set: 5943, number of used features: 19\n",
      "[LightGBM] [Info] Start training from score 9014.675016\n"
     ]
    },
    {
     "name": "stderr",
     "output_type": "stream",
     "text": [
      "/Users/denisbespalko/GitHub/Hackathon_22feb/.venv/lib/python3.10/site-packages/pandas/core/arraylike.py:399: RuntimeWarning: invalid value encountered in log\n",
      "  result = getattr(ufunc, method)(*inputs, **kwargs)\n",
      "/Users/denisbespalko/GitHub/Hackathon_22feb/.venv/lib/python3.10/site-packages/pandas/core/arraylike.py:399: RuntimeWarning: invalid value encountered in log\n",
      "  result = getattr(ufunc, method)(*inputs, **kwargs)\n",
      "/Users/denisbespalko/GitHub/Hackathon_22feb/.venv/lib/python3.10/site-packages/pandas/core/arraylike.py:399: RuntimeWarning: invalid value encountered in log\n",
      "  result = getattr(ufunc, method)(*inputs, **kwargs)\n",
      "/Users/denisbespalko/GitHub/Hackathon_22feb/.venv/lib/python3.10/site-packages/pandas/core/arraylike.py:399: RuntimeWarning: invalid value encountered in log\n",
      "  result = getattr(ufunc, method)(*inputs, **kwargs)\n"
     ]
    },
    {
     "name": "stdout",
     "output_type": "stream",
     "text": [
      "[LightGBM] [Warning] Found whitespace in feature_names, replace with underlines\n",
      "[LightGBM] [Info] Auto-choosing col-wise multi-threading, the overhead of testing was 0.000515 seconds.\n",
      "You can set `force_col_wise=true` to remove the overhead.\n",
      "[LightGBM] [Info] Total Bins 2536\n",
      "[LightGBM] [Info] Number of data points in the train set: 5944, number of used features: 19\n",
      "[LightGBM] [Info] Start training from score 8505.488389\n",
      "Mean Custom Metric Score: -2.1526060660210833\n"
     ]
    },
    {
     "name": "stderr",
     "output_type": "stream",
     "text": [
      "/Users/denisbespalko/GitHub/Hackathon_22feb/.venv/lib/python3.10/site-packages/pandas/core/arraylike.py:399: RuntimeWarning: invalid value encountered in log\n",
      "  result = getattr(ufunc, method)(*inputs, **kwargs)\n"
     ]
    }
   ],
   "source": [
    "# from sklearn.model_selection import KFold\n",
    "# import numpy as np\n",
    "# import pandas as pd\n",
    "# import lightgbm as lgb\n",
    "\n",
    "# # Define the custom metric for regression\n",
    "# def custom_metric(y_true, y_pred):\n",
    "#     ratio = y_true / y_pred\n",
    "#     log_ratio = np.log(ratio)\n",
    "#     clipped_log_ratio = np.minimum(log_ratio, 10)\n",
    "#     score = np.mean(clipped_log_ratio)\n",
    "#     return score\n",
    "\n",
    "# # Initialize the KFold\n",
    "# kf = KFold(n_splits=5, random_state=17, shuffle=True)\n",
    "\n",
    "# # Initialize the LGBMRegressor with fixed hyperparameters\n",
    "# grd = lgb.LGBMRegressor(random_state=17)\n",
    "\n",
    "# # List to store custom metric scores\n",
    "# custom_scores = []\n",
    "\n",
    "# # Perform cross-validation\n",
    "# for train_indices, val_indices in kf.split(X_train, y_train):\n",
    "#     X_train_fold = X_train.iloc[train_indices]\n",
    "#     y_train_fold = y_train.iloc[train_indices]\n",
    "#     X_val_fold = X_train.iloc[val_indices]\n",
    "#     y_val_fold = y_train.iloc[val_indices]\n",
    "    \n",
    "#     # Fit the model\n",
    "#     grd.fit(X_train_fold, y_train_fold)\n",
    "    \n",
    "#     # Predict values\n",
    "#     y_pred = grd.predict(X_val_fold)\n",
    "    \n",
    "#     # Calculate the custom metric\n",
    "#     score = custom_metric(y_val_fold, y_pred)\n",
    "    \n",
    "#     # Append the score to the list\n",
    "#     custom_scores.append(score)\n",
    "\n",
    "# # Calculate the mean custom metric score across all folds\n",
    "# mean_custom_score = np.mean(custom_scores)\n",
    "# print(f\"Mean Custom Metric Score: {mean_custom_score}\")"
   ]
  },
  {
   "cell_type": "code",
   "execution_count": null,
   "metadata": {},
   "outputs": [],
   "source": []
  }
 ],
 "metadata": {
  "kernelspec": {
   "display_name": ".venv",
   "language": "python",
   "name": "python3"
  },
  "language_info": {
   "codemirror_mode": {
    "name": "ipython",
    "version": 3
   },
   "file_extension": ".py",
   "mimetype": "text/x-python",
   "name": "python",
   "nbconvert_exporter": "python",
   "pygments_lexer": "ipython3",
   "version": "3.10.14"
  }
 },
 "nbformat": 4,
 "nbformat_minor": 2
}
